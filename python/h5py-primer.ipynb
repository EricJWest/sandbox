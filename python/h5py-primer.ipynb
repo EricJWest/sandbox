{
 "cells": [
  {
   "cell_type": "markdown",
   "metadata": {},
   "source": [
    "# H5Py Primer\n",
    "---\n",
    "H5Py is a Python library for interacting with HDF5 files. Below are the most commonly used features.\n",
    "\n",
    "Table of Contents:\n",
    "1. [Importing h5py](#section1)\n",
    "2. [Working with files](#section2)\n",
    "3. [Working with groups](#section3)\n",
    "4. [Working with datasets](#section4)\n",
    "5. [Working with attributes](#section5)\n",
    "\n",
    "REFERENCES:\n",
    "- [1] Johansson, *Numerical Python: A Practical Techniques Approach for Industry*"
   ]
  },
  {
   "cell_type": "markdown",
   "metadata": {},
   "source": [
    "## 1. Importing h5py <a id='section1'></a>\n",
    "Before using the various commands from the h5py module, you first have to load it."
   ]
  },
  {
   "cell_type": "code",
   "execution_count": 138,
   "metadata": {},
   "outputs": [],
   "source": [
    "# import the library\n",
    "import h5py\n",
    "import numpy as np #numpy will also be needed for some of the examples below"
   ]
  },
  {
   "cell_type": "markdown",
   "metadata": {},
   "source": [
    "## 2. Working with files <a id='section2'></a>\n",
    "This sections shows examples on how to create new hdf5 files as well as open and read existing hdf5 files. "
   ]
  },
  {
   "cell_type": "code",
   "execution_count": 88,
   "metadata": {},
   "outputs": [],
   "source": [
    "# create a new file in write mode\n",
    "f = h5py.File('testfile.hdf5', mode='w')"
   ]
  },
  {
   "cell_type": "code",
   "execution_count": 89,
   "metadata": {},
   "outputs": [
    {
     "data": {
      "text/plain": [
       "'r+'"
      ]
     },
     "execution_count": 89,
     "metadata": {},
     "output_type": "execute_result"
    }
   ],
   "source": [
    "# check the current mode of a file\n",
    "# NOTE: once a file is created/opened, its mode is either read-only ('r') or read-write ('r+'). \n",
    "f.mode"
   ]
  },
  {
   "cell_type": "code",
   "execution_count": 90,
   "metadata": {},
   "outputs": [],
   "source": [
    "# flush buffer\n",
    "f.flush()"
   ]
  },
  {
   "cell_type": "code",
   "execution_count": 91,
   "metadata": {},
   "outputs": [],
   "source": [
    "# close a file\n",
    "f.close()"
   ]
  },
  {
   "cell_type": "code",
   "execution_count": 92,
   "metadata": {},
   "outputs": [
    {
     "data": {
      "text/plain": [
       "'r'"
      ]
     },
     "execution_count": 92,
     "metadata": {},
     "output_type": "execute_result"
    }
   ],
   "source": [
    "# open an existing file in read-only mode (file must exist)\n",
    "f = h5py.File('testfile.hdf5', mode='r')\n",
    "f.mode"
   ]
  },
  {
   "cell_type": "code",
   "execution_count": 93,
   "metadata": {},
   "outputs": [
    {
     "data": {
      "text/plain": [
       "'r+'"
      ]
     },
     "execution_count": 93,
     "metadata": {},
     "output_type": "execute_result"
    }
   ],
   "source": [
    "# open an existing file in read-write mode (file must exist)\n",
    "f.flush()\n",
    "f.close()\n",
    "f = h5py.File('testfile.hdf5', mode='r+')\n",
    "f.mode"
   ]
  },
  {
   "cell_type": "code",
   "execution_count": 94,
   "metadata": {},
   "outputs": [
    {
     "data": {
      "text/plain": [
       "'r+'"
      ]
     },
     "execution_count": 94,
     "metadata": {},
     "output_type": "execute_result"
    }
   ],
   "source": [
    "# try to create a new file, fail if file already exists\n",
    "f2 = h5py.File('testfile2.hdf5', mode='x')\n",
    "f2.mode"
   ]
  },
  {
   "cell_type": "code",
   "execution_count": 96,
   "metadata": {},
   "outputs": [
    {
     "data": {
      "text/plain": [
       "'r+'"
      ]
     },
     "execution_count": 96,
     "metadata": {},
     "output_type": "execute_result"
    }
   ],
   "source": [
    "# open an existing file in read-write mode, create file if it doesn't already exist\n",
    "f.flush()\n",
    "f.close()\n",
    "f = h5py.File('testfile.hdf5', mode='a')\n",
    "f.mode"
   ]
  },
  {
   "cell_type": "markdown",
   "metadata": {},
   "source": [
    "## 3. Working with groups <a id='section3'></a>\n",
    "This section illustrates how to create and explore groups in an hdf5 file."
   ]
  },
  {
   "cell_type": "code",
   "execution_count": 174,
   "metadata": {},
   "outputs": [],
   "source": [
    "# first make sure the file is openned in read-write mode\n",
    "f = h5py.File('testfile.hdf5', mode='a')"
   ]
  },
  {
   "cell_type": "code",
   "execution_count": 175,
   "metadata": {},
   "outputs": [
    {
     "data": {
      "text/plain": [
       "'/'"
      ]
     },
     "execution_count": 175,
     "metadata": {},
     "output_type": "execute_result"
    }
   ],
   "source": [
    "# read the name of the root group\n",
    "f.name"
   ]
  },
  {
   "cell_type": "code",
   "execution_count": 176,
   "metadata": {},
   "outputs": [
    {
     "data": {
      "text/plain": [
       "'/experiment1'"
      ]
     },
     "execution_count": 176,
     "metadata": {},
     "output_type": "execute_result"
    }
   ],
   "source": [
    "# create a new subgroup\n",
    "grp1 = f.create_group(\"experiment1\")\n",
    "grp1.name"
   ]
  },
  {
   "cell_type": "code",
   "execution_count": 177,
   "metadata": {},
   "outputs": [
    {
     "data": {
      "text/plain": [
       "'/experiment2/simulation1'"
      ]
     },
     "execution_count": 177,
     "metadata": {},
     "output_type": "execute_result"
    }
   ],
   "source": [
    "# create a group hierarchy (automatically creating parent groups if they don't already exsist)\n",
    "grp2_s1 = f.create_group(\"experiment2/simulation1\")\n",
    "grp2_s2 = f.create_group(\"experiment2/simulation2\")\n",
    "grp2_s1.name"
   ]
  },
  {
   "cell_type": "code",
   "execution_count": 178,
   "metadata": {},
   "outputs": [
    {
     "data": {
      "text/plain": [
       "(<HDF5 group \"/\" (2 members)>,\n",
       " <HDF5 group \"/experiment1\" (0 members)>,\n",
       " <HDF5 group \"/experiment2\" (2 members)>)"
      ]
     },
     "execution_count": 178,
     "metadata": {},
     "output_type": "execute_result"
    }
   ],
   "source": [
    "# dictionary-like lookup for a group\n",
    "f['/'], f['/experiment1'], f['/experiment2']"
   ]
  },
  {
   "cell_type": "code",
   "execution_count": 179,
   "metadata": {},
   "outputs": [
    {
     "data": {
      "text/plain": [
       "<HDF5 group \"/experiment2/simulation1\" (0 members)>"
      ]
     },
     "execution_count": 179,
     "metadata": {},
     "output_type": "execute_result"
    }
   ],
   "source": [
    "# dictionary-like lookup for a subgroup\n",
    "exp2 = f['/experiment2']\n",
    "exp2['simulation1']"
   ]
  },
  {
   "cell_type": "code",
   "execution_count": 180,
   "metadata": {},
   "outputs": [
    {
     "data": {
      "text/plain": [
       "['experiment1', 'experiment2']"
      ]
     },
     "execution_count": 180,
     "metadata": {},
     "output_type": "execute_result"
    }
   ],
   "source": [
    "# get names of subgroups within a group\n",
    "list(f.keys())"
   ]
  },
  {
   "cell_type": "code",
   "execution_count": 181,
   "metadata": {},
   "outputs": [
    {
     "data": {
      "text/plain": [
       "[('experiment1', <HDF5 group \"/experiment1\" (0 members)>),\n",
       " ('experiment2', <HDF5 group \"/experiment2\" (2 members)>)]"
      ]
     },
     "execution_count": 181,
     "metadata": {},
     "output_type": "execute_result"
    }
   ],
   "source": [
    "# get (name, value) tuples for each item in a group\n",
    "list(f.items())"
   ]
  },
  {
   "cell_type": "code",
   "execution_count": 182,
   "metadata": {},
   "outputs": [
    {
     "name": "stdout",
     "output_type": "stream",
     "text": [
      "experiment1\n",
      "experiment2\n",
      "experiment2/simulation1\n",
      "experiment2/simulation2\n"
     ]
    }
   ],
   "source": [
    "# traverse the hierarchy of groups in a file\n",
    "f.visit(lambda x: print(x))"
   ]
  },
  {
   "cell_type": "code",
   "execution_count": 183,
   "metadata": {},
   "outputs": [
    {
     "name": "stdout",
     "output_type": "stream",
     "text": [
      "experiment1 <HDF5 group \"/experiment1\" (0 members)>\n",
      "experiment2 <HDF5 group \"/experiment2\" (2 members)>\n",
      "experiment2/simulation1 <HDF5 group \"/experiment2/simulation1\" (0 members)>\n",
      "experiment2/simulation2 <HDF5 group \"/experiment2/simulation2\" (0 members)>\n"
     ]
    }
   ],
   "source": [
    "# traverse the hierarchy of (name, item) tuples in a file\n",
    "f.visititems(lambda name, item: print(name, item))"
   ]
  },
  {
   "cell_type": "code",
   "execution_count": 184,
   "metadata": {},
   "outputs": [
    {
     "name": "stdout",
     "output_type": "stream",
     "text": [
      "False\n",
      "False\n",
      "True\n"
     ]
    }
   ],
   "source": [
    "# test group membership with the 'in' operator\n",
    "print('simulation1' in f)\n",
    "print('simulation1' in f['experiment1'])\n",
    "print('simulation1' in f['experiment2'])"
   ]
  },
  {
   "cell_type": "code",
   "execution_count": 185,
   "metadata": {},
   "outputs": [
    {
     "name": "stdout",
     "output_type": "stream",
     "text": [
      "/                        Group\r\n",
      "/experiment1             Group\r\n",
      "/experiment2             Group\r\n",
      "/experiment2/simulation1 Group\r\n",
      "/experiment2/simulation2 Group\r\n"
     ]
    }
   ],
   "source": [
    "# use external hdf5 utilities to explore a file (provided by the p[ackage hdf5-tools)\n",
    "f.flush()\n",
    "f.close()\n",
    "!h5ls -r testfile.hdf5"
   ]
  },
  {
   "cell_type": "markdown",
   "metadata": {},
   "source": [
    "## 4. Working with datasets <a id='section4'></a>\n",
    "This section illustrates how to create, retreive, modify, and delete datasets in an hdf5 file."
   ]
  },
  {
   "cell_type": "code",
   "execution_count": 186,
   "metadata": {},
   "outputs": [],
   "source": [
    "# first make sure the file is opened in read-write mode\n",
    "f = h5py.File('testfile.hdf5', mode='a')"
   ]
  },
  {
   "cell_type": "code",
   "execution_count": 187,
   "metadata": {},
   "outputs": [
    {
     "name": "stdout",
     "output_type": "stream",
     "text": [
      "experiment1 <HDF5 group \"/experiment1\" (1 members)>\n",
      "experiment1/simulation1 <HDF5 group \"/experiment1/simulation1\" (1 members)>\n",
      "experiment1/simulation1/data1 <HDF5 dataset \"data1\": shape (100, 100), type \"<f8\">\n",
      "experiment2 <HDF5 group \"/experiment2\" (2 members)>\n",
      "experiment2/simulation1 <HDF5 group \"/experiment2/simulation1\" (0 members)>\n",
      "experiment2/simulation2 <HDF5 group \"/experiment2/simulation2\" (0 members)>\n"
     ]
    }
   ],
   "source": [
    "# create a dataset by directly assigning an array to an item\n",
    "data1 = np.random.randn(100, 100)\n",
    "f['/experiment1/simulation1/data1'] = data1\n",
    "f.visititems(lambda name, item: print(name, item))"
   ]
  },
  {
   "cell_type": "code",
   "execution_count": 188,
   "metadata": {},
   "outputs": [
    {
     "name": "stdout",
     "output_type": "stream",
     "text": [
      "experiment1 <HDF5 group \"/experiment1\" (1 members)>\n",
      "experiment1/simulation1 <HDF5 group \"/experiment1/simulation1\" (2 members)>\n",
      "experiment1/simulation1/data1 <HDF5 dataset \"data1\": shape (100, 100), type \"<f8\">\n",
      "experiment1/simulation1/data2 <HDF5 dataset \"data2\": shape (100, 100), type \"<f8\">\n",
      "experiment2 <HDF5 group \"/experiment2\" (2 members)>\n",
      "experiment2/simulation1 <HDF5 group \"/experiment2/simulation1\" (0 members)>\n",
      "experiment2/simulation2 <HDF5 group \"/experiment2/simulation2\" (0 members)>\n"
     ]
    }
   ],
   "source": [
    "# create a dataset using the create_dataset method\n",
    "f.create_dataset('experiment1/simulation1/data2', data=np.random.randn(100, 100))\n",
    "f.visititems(lambda name, item: print(name, item))"
   ]
  },
  {
   "cell_type": "code",
   "execution_count": 190,
   "metadata": {},
   "outputs": [
    {
     "name": "stdout",
     "output_type": "stream",
     "text": [
      "experiment1 <HDF5 group \"/experiment1\" (1 members)>\n",
      "experiment1/simulation1 <HDF5 group \"/experiment1/simulation1\" (3 members)>\n",
      "experiment1/simulation1/data1 <HDF5 dataset \"data1\": shape (100, 100), type \"<f8\">\n",
      "experiment1/simulation1/data2 <HDF5 dataset \"data2\": shape (100, 100), type \"<f8\">\n",
      "experiment1/simulation1/data3 <HDF5 dataset \"data3\": shape (100, 100), type \"<f8\">\n",
      "experiment2 <HDF5 group \"/experiment2\" (2 members)>\n",
      "experiment2/simulation1 <HDF5 group \"/experiment2/simulation1\" (0 members)>\n",
      "experiment2/simulation2 <HDF5 group \"/experiment2/simulation2\" (0 members)>\n"
     ]
    }
   ],
   "source": [
    "# create an empty dataset using the create_dataset method\n",
    "f.create_dataset('experiment1/simulation1/data3', shape=(100, 100), fillvalue=-1, dtype='float64')\n",
    "f.visititems(lambda name, item: print(name, item))"
   ]
  },
  {
   "cell_type": "code",
   "execution_count": 191,
   "metadata": {},
   "outputs": [
    {
     "data": {
      "text/plain": [
       "<HDF5 dataset \"data1\": shape (100, 100), type \"<f8\">"
      ]
     },
     "execution_count": 191,
     "metadata": {},
     "output_type": "execute_result"
    }
   ],
   "source": [
    "# retreive a dataset by dictionary-like assignment\n",
    "dset = f['/experiment1/simulation1/data1']\n",
    "dset"
   ]
  },
  {
   "cell_type": "code",
   "execution_count": 192,
   "metadata": {},
   "outputs": [
    {
     "name": "stdout",
     "output_type": "stream",
     "text": [
      "dataset name is /experiment1/simulation1/data1\n",
      "dataset type is float64\n",
      "dataset shape is (100, 100)\n",
      "dataset length is 100\n"
     ]
    }
   ],
   "source": [
    "# get dataset attributes\n",
    "print('dataset name is', dset.name)\n",
    "print('dataset type is', dset.dtype)\n",
    "print('dataset shape is', dset.shape)\n",
    "print('dataset length is', dset.len())"
   ]
  },
  {
   "cell_type": "code",
   "execution_count": 163,
   "metadata": {},
   "outputs": [
    {
     "name": "stdout",
     "output_type": "stream",
     "text": [
      "<class 'numpy.ndarray'>\n"
     ]
    },
    {
     "data": {
      "text/plain": [
       "array([[-1.55122402, -0.25014858, -0.53197104, ...,  0.86986041,\n",
       "         0.52466628,  1.97577642],\n",
       "       [-1.3420808 ,  1.24863887,  0.51486834, ...,  2.15678855,\n",
       "         0.45520741,  1.24565881],\n",
       "       [ 0.25870432,  1.10026541, -0.24941832, ...,  0.26728039,\n",
       "        -0.99732445,  0.848655  ],\n",
       "       ...,\n",
       "       [-0.14897499,  0.02556633, -0.52910275, ...,  1.13520198,\n",
       "        -1.00031886, -0.27633616],\n",
       "       [-0.30683423,  0.4422905 , -0.59246   , ...,  1.03244417,\n",
       "         0.13213584, -1.38594066],\n",
       "       [ 0.00835378,  0.17420096, -0.10452702, ...,  0.89675   ,\n",
       "        -0.42731051,  0.47879896]])"
      ]
     },
     "execution_count": 163,
     "metadata": {},
     "output_type": "execute_result"
    }
   ],
   "source": [
    "# get data from dataset as a numpy array\n",
    "npdset = dset[...]\n",
    "print(type(npdset))\n",
    "npdset"
   ]
  },
  {
   "cell_type": "code",
   "execution_count": 167,
   "metadata": {},
   "outputs": [
    {
     "data": {
      "text/plain": [
       "(100,)"
      ]
     },
     "execution_count": 167,
     "metadata": {},
     "output_type": "execute_result"
    }
   ],
   "source": [
    "# get part of the data from a dataset using numpy-like slicing\n",
    "# NOTE: the slicing is done within the HDF5 library, not NumPy, which means the entire \n",
    "# dataset is not read into memory!!!\n",
    "first_col = dset[:,0]\n",
    "first_col.shape"
   ]
  },
  {
   "cell_type": "code",
   "execution_count": 196,
   "metadata": {},
   "outputs": [
    {
     "data": {
      "text/plain": [
       "array([ 0.,  1.,  2.,  3.,  4.,  5.,  6.,  7.,  8.,  9., 10., 11., 12.,\n",
       "       13., 14., 15., 16., 17., 18., 19., 20., 21., 22., 23., 24., 25.,\n",
       "       26., 27., 28., 29., 30., 31., 32., 33., 34., 35., 36., 37., 38.,\n",
       "       39., 40., 41., 42., 43., 44., 45., 46., 47., 48., 49., 50., 51.,\n",
       "       52., 53., 54., 55., 56., 57., 58., 59., 60., 61., 62., 63., 64.,\n",
       "       65., 66., 67., 68., 69., 70., 71., 72., 73., 74., 75., 76., 77.,\n",
       "       78., 79., 80., 81., 82., 83., 84., 85., 86., 87., 88., 89., 90.,\n",
       "       91., 92., 93., 94., 95., 96., 97., 98., 99.])"
      ]
     },
     "execution_count": 196,
     "metadata": {},
     "output_type": "execute_result"
    }
   ],
   "source": [
    "# change/fill dataset using numpy-like assignments\n",
    "dset[:, 0] = np.arange(100)\n",
    "dset[:, 0]"
   ]
  },
  {
   "cell_type": "code",
   "execution_count": 198,
   "metadata": {},
   "outputs": [
    {
     "name": "stdout",
     "output_type": "stream",
     "text": [
      "experiment1 <HDF5 group \"/experiment1\" (1 members)>\n",
      "experiment1/simulation1 <HDF5 group \"/experiment1/simulation1\" (2 members)>\n",
      "experiment1/simulation1/data1 <HDF5 dataset \"data1\": shape (100, 100), type \"<f8\">\n",
      "experiment1/simulation1/data2 <HDF5 dataset \"data2\": shape (100, 100), type \"<f8\">\n",
      "experiment2 <HDF5 group \"/experiment2\" (2 members)>\n",
      "experiment2/simulation1 <HDF5 group \"/experiment2/simulation1\" (0 members)>\n",
      "experiment2/simulation2 <HDF5 group \"/experiment2/simulation2\" (0 members)>\n"
     ]
    }
   ],
   "source": [
    "# delete items from a group\n",
    "del f['experiment1/simulation1/data3']\n",
    "f.visititems(lambda name, item: print(name, item))"
   ]
  },
  {
   "cell_type": "markdown",
   "metadata": {},
   "source": [
    "## 5. Working with attributes <a id='section5'></a>"
   ]
  },
  {
   "cell_type": "code",
   "execution_count": 199,
   "metadata": {},
   "outputs": [],
   "source": [
    "# first make sure the file is opened in read-write mode\n",
    "f = h5py.File('testfile.hdf5', mode='a')"
   ]
  },
  {
   "cell_type": "code",
   "execution_count": 201,
   "metadata": {},
   "outputs": [
    {
     "data": {
      "text/plain": [
       "<Attributes of HDF5 object at 140447206666312>"
      ]
     },
     "execution_count": 201,
     "metadata": {},
     "output_type": "execute_result"
    }
   ],
   "source": [
    "# access attributes of hdf5 objects using the attrs method\n",
    "f.attrs"
   ]
  },
  {
   "cell_type": "code",
   "execution_count": 211,
   "metadata": {},
   "outputs": [
    {
     "data": {
      "text/plain": [
       "['description']"
      ]
     },
     "execution_count": 211,
     "metadata": {},
     "output_type": "execute_result"
    }
   ],
   "source": [
    "# retreive attributes \n",
    "list(f.attrs.keys())"
   ]
  },
  {
   "cell_type": "code",
   "execution_count": 212,
   "metadata": {},
   "outputs": [
    {
     "data": {
      "text/plain": [
       "['description']"
      ]
     },
     "execution_count": 212,
     "metadata": {},
     "output_type": "execute_result"
    }
   ],
   "source": [
    "# create an attribute to the root group\n",
    "f.attrs['description'] = 'Simulation data for project X'\n",
    "list(f['/'].attrs.keys())"
   ]
  },
  {
   "cell_type": "code",
   "execution_count": 214,
   "metadata": {},
   "outputs": [
    {
     "data": {
      "text/plain": [
       "(['mass ratio'], ['mass ratio'])"
      ]
     },
     "execution_count": 214,
     "metadata": {},
     "output_type": "execute_result"
    }
   ],
   "source": [
    "# create attributes to a (sub)group\n",
    "f['experiment1'].attrs['mass ratio'] = '2.5'\n",
    "f['experiment2'].attrs['mass ratio'] = '1.0'\n",
    "list(f['experiment1'].attrs.keys()), list(f['experiment2'].attrs.keys())"
   ]
  },
  {
   "cell_type": "code",
   "execution_count": 216,
   "metadata": {},
   "outputs": [
    {
     "data": {
      "text/plain": [
       "['m1', 'm2', 'r0']"
      ]
     },
     "execution_count": 216,
     "metadata": {},
     "output_type": "execute_result"
    }
   ],
   "source": [
    "# create attributes to a dataset\n",
    "f['experiment1/simulation1/data1'].attrs['m1'] = 1.0\n",
    "f['experiment1/simulation1/data1'].attrs['m2'] = 2.5\n",
    "f['experiment1/simulation1/data1'].attrs['r0'] = 30.0\n",
    "list(f['experiment1/simulation1/data1'].attrs.keys())"
   ]
  },
  {
   "cell_type": "code",
   "execution_count": 220,
   "metadata": {},
   "outputs": [
    {
     "name": "stdout",
     "output_type": "stream",
     "text": [
      "True\n",
      "True\n"
     ]
    }
   ],
   "source": [
    "# test for the existence of an attribute using the 'in' operator\n",
    "print('mass ratio' in f['experiment1'].attrs)\n",
    "print('mass ratio' in f['experiment2'].attrs)"
   ]
  },
  {
   "cell_type": "code",
   "execution_count": 221,
   "metadata": {},
   "outputs": [
    {
     "name": "stdout",
     "output_type": "stream",
     "text": [
      "False\n"
     ]
    }
   ],
   "source": [
    "# delete existing attributes\n",
    "del f['experiment1'].attrs['mass ratio']\n",
    "print('mass ratio' in f['experiment1'].attrs)"
   ]
  }
 ],
 "metadata": {
  "kernelspec": {
   "display_name": "Python 3",
   "language": "python",
   "name": "python3"
  },
  "language_info": {
   "codemirror_mode": {
    "name": "ipython",
    "version": 3
   },
   "file_extension": ".py",
   "mimetype": "text/x-python",
   "name": "python",
   "nbconvert_exporter": "python",
   "pygments_lexer": "ipython3",
   "version": "3.6.7"
  }
 },
 "nbformat": 4,
 "nbformat_minor": 2
}
