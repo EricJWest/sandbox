{
 "cells": [
  {
   "cell_type": "markdown",
   "metadata": {},
   "source": [
    "# A SymPy Primer\n",
    "---\n",
    "SymPy is an add-on package to Python for handling symbolic calculations. It is meant to be a fully featured computer algebra system (CAS), similar to Mathematica or Maple. This notebook illustrates some of its basic features.\n",
    "\n",
    "Table of Contents:\n",
    "1. [Importing sympy](#section1)\n",
    "2. [Creating symbol objects](#section2)\n",
    "3. [Symbol attributes](#section3)\n",
    "4. [Numbers](#section4)\n",
    "5. [Functions](#section5)\n",
    "6. [Manipulating expressions](#section6)\n",
    "7. [Numerical evaluation](#section7)\n",
    "8. [Calculus](#section8)\n",
    "9. [Solving equations](#section9)\n",
    "10. [Linear algebra](#section10)"
   ]
  },
  {
   "cell_type": "markdown",
   "metadata": {},
   "source": [
    "## 1. Importing SymPy <a id='section1'></a>\n",
    "\n",
    "Before using the various commands from the sympy module, you first have to load it."
   ]
  },
  {
   "cell_type": "code",
   "execution_count": 1,
   "metadata": {},
   "outputs": [],
   "source": [
    "# load all sympy commands all at once (not recommended)\n",
    "#from sympy import *"
   ]
  },
  {
   "cell_type": "code",
   "execution_count": 2,
   "metadata": {},
   "outputs": [],
   "source": [
    "# introduce an alias for the numpy namespace (recommended)\n",
    "import sympy as sym"
   ]
  },
  {
   "cell_type": "markdown",
   "metadata": {},
   "source": [
    "In order to display output in an easy-to-read format, we need to add the following line."
   ]
  },
  {
   "cell_type": "code",
   "execution_count": 3,
   "metadata": {},
   "outputs": [],
   "source": [
    "sym.init_printing()"
   ]
  },
  {
   "cell_type": "markdown",
   "metadata": {},
   "source": [
    "## 2. Creating symbol objects <a id='section2'></a>\n",
    "\n",
    "The basic elements used in sympy calculations are symbol objects, which are instances of the class sympy.Symbols. There are multiple ways to create new sympy.Symbols objects. (From now on, Symbols objects will simply be called symbols.) "
   ]
  },
  {
   "cell_type": "markdown",
   "metadata": {},
   "source": [
    "### Symbol( )"
   ]
  },
  {
   "cell_type": "code",
   "execution_count": 4,
   "metadata": {},
   "outputs": [
    {
     "data": {
      "image/png": "[encoded data removed]",
      "text/latex": [
       "$$x$$"
      ],
      "text/plain": [
       "x"
      ]
     },
     "execution_count": 4,
     "metadata": {},
     "output_type": "execute_result"
    }
   ],
   "source": [
    "# simplest way to create a symbol\n",
    "x = sym.Symbol(\"x\")\n",
    "x"
   ]
  },
  {
   "cell_type": "code",
   "execution_count": 5,
   "metadata": {},
   "outputs": [
    {
     "data": {
      "image/png": "[encoded data removed]",
      "text/latex": [
       "$$\\left ( \\alpha, \\quad \\beta\\right )$$"
      ],
      "text/plain": [
       "(α, β)"
      ]
     },
     "execution_count": 5,
     "metadata": {},
     "output_type": "execute_result"
    }
   ],
   "source": [
    "# create a symbol with some specified attribute\n",
    "alpha = sym.Symbol(\"alpha\", real=True)\n",
    "beta = sym.Symbol(\"beta\", integer=True)\n",
    "alpha, beta"
   ]
  },
  {
   "cell_type": "markdown",
   "metadata": {},
   "source": [
    "### symbols( )"
   ]
  },
  {
   "cell_type": "code",
   "execution_count": 6,
   "metadata": {},
   "outputs": [
    {
     "data": {
      "image/png": "[encoded data removed]",
      "text/latex": [
       "$$\\left ( \\alpha, \\quad \\beta, \\quad \\gamma\\right )$$"
      ],
      "text/plain": [
       "(α, β, γ)"
      ]
     },
     "execution_count": 6,
     "metadata": {},
     "output_type": "execute_result"
    }
   ],
   "source": [
    "# create multiple symbols all at once, using sympy.symbols()\n",
    "alpha, beta, gamma = sym.symbols(\"alpha, beta, gamma\", positive=True, real=True)\n",
    "alpha, beta, gamma"
   ]
  },
  {
   "cell_type": "code",
   "execution_count": 8,
   "metadata": {},
   "outputs": [
    {
     "data": {
      "image/png": "[encoded data removed]",
      "text/latex": [
       "$$\\left ( \\alpha_{2}, \\quad \\beta_{2}, \\quad \\gamma_{2}\\right )$$"
      ],
      "text/plain": [
       "(α₂, β₂, γ₂)"
      ]
     },
     "execution_count": 8,
     "metadata": {},
     "output_type": "execute_result"
    }
   ],
   "source": [
    "# the symbol name does not need to match the symbol\n",
    "a, b, c = sym.symbols(\"alpha2, beta2, gamma2\")\n",
    "a, b, c"
   ]
  },
  {
   "cell_type": "code",
   "execution_count": 9,
   "metadata": {},
   "outputs": [
    {
     "data": {
      "image/png": "[encoded data removed]",
      "text/latex": [
       "$$\\left ( \\alpha_{3}, \\quad \\alpha_{3}\\right )$$"
      ],
      "text/plain": [
       "(α₃, α₃)"
      ]
     },
     "execution_count": 9,
     "metadata": {},
     "output_type": "execute_result"
    }
   ],
   "source": [
    "# the symbol name does not need to be unique\n",
    "a, b = sym.symbols(\"alpha3, alpha3\")\n",
    "a, b"
   ]
  },
  {
   "cell_type": "markdown",
   "metadata": {},
   "source": [
    "### var( )"
   ]
  },
  {
   "cell_type": "code",
   "execution_count": 7,
   "metadata": {},
   "outputs": [
    {
     "data": {
      "image/png": "[encoded data removed]",
      "text/latex": [
       "$$\\left ( \\alpha_{1}, \\quad \\beta_{1}, \\quad \\gamma_{1}\\right )$$"
      ],
      "text/plain": [
       "(α₁, β₁, γ₁)"
      ]
     },
     "execution_count": 7,
     "metadata": {},
     "output_type": "execute_result"
    }
   ],
   "source": [
    "# create multiple symbols all at once, using sympy.var()\n",
    "alpha1, beta1, gamma1 = sym.var(\"alpha1, beta1, gamma1\", positive=True, real=True)\n",
    "alpha1, beta1, gamma1"
   ]
  },
  {
   "cell_type": "markdown",
   "metadata": {},
   "source": [
    "## 3. Symbol attributes <a id='section3'></a>"
   ]
  },
  {
   "cell_type": "code",
   "execution_count": 10,
   "metadata": {},
   "outputs": [],
   "source": [
    "alpha = sym.var(\"alpha\", real=True, integer=False, positive=True)"
   ]
  },
  {
   "cell_type": "code",
   "execution_count": 11,
   "metadata": {},
   "outputs": [
    {
     "data": {
      "text/plain": [
       "True"
      ]
     },
     "execution_count": 11,
     "metadata": {},
     "output_type": "execute_result"
    }
   ],
   "source": [
    "alpha.is_real"
   ]
  },
  {
   "cell_type": "code",
   "execution_count": 12,
   "metadata": {},
   "outputs": [
    {
     "data": {
      "text/plain": [
       "True"
      ]
     },
     "execution_count": 12,
     "metadata": {},
     "output_type": "execute_result"
    }
   ],
   "source": [
    "alpha.is_complex"
   ]
  },
  {
   "cell_type": "code",
   "execution_count": 13,
   "metadata": {},
   "outputs": [
    {
     "data": {
      "text/plain": [
       "False"
      ]
     },
     "execution_count": 13,
     "metadata": {},
     "output_type": "execute_result"
    }
   ],
   "source": [
    "alpha.is_imaginary"
   ]
  },
  {
   "cell_type": "code",
   "execution_count": 14,
   "metadata": {},
   "outputs": [
    {
     "data": {
      "text/plain": [
       "True"
      ]
     },
     "execution_count": 14,
     "metadata": {},
     "output_type": "execute_result"
    }
   ],
   "source": [
    "alpha.is_positive"
   ]
  },
  {
   "cell_type": "code",
   "execution_count": 15,
   "metadata": {},
   "outputs": [
    {
     "data": {
      "text/plain": [
       "False"
      ]
     },
     "execution_count": 15,
     "metadata": {},
     "output_type": "execute_result"
    }
   ],
   "source": [
    "alpha.is_negative"
   ]
  },
  {
   "cell_type": "code",
   "execution_count": 16,
   "metadata": {},
   "outputs": [
    {
     "data": {
      "text/plain": [
       "False"
      ]
     },
     "execution_count": 16,
     "metadata": {},
     "output_type": "execute_result"
    }
   ],
   "source": [
    "alpha.is_zero"
   ]
  },
  {
   "cell_type": "code",
   "execution_count": 17,
   "metadata": {},
   "outputs": [
    {
     "data": {
      "text/plain": [
       "True"
      ]
     },
     "execution_count": 17,
     "metadata": {},
     "output_type": "execute_result"
    }
   ],
   "source": [
    "alpha.is_nonzero"
   ]
  },
  {
   "cell_type": "code",
   "execution_count": 18,
   "metadata": {},
   "outputs": [
    {
     "data": {
      "text/plain": [
       "False"
      ]
     },
     "execution_count": 18,
     "metadata": {},
     "output_type": "execute_result"
    }
   ],
   "source": [
    "alpha.is_even"
   ]
  },
  {
   "cell_type": "code",
   "execution_count": 19,
   "metadata": {},
   "outputs": [
    {
     "data": {
      "text/plain": [
       "False"
      ]
     },
     "execution_count": 19,
     "metadata": {},
     "output_type": "execute_result"
    }
   ],
   "source": [
    "alpha.is_odd"
   ]
  },
  {
   "cell_type": "code",
   "execution_count": 20,
   "metadata": {},
   "outputs": [
    {
     "data": {
      "text/plain": [
       "False"
      ]
     },
     "execution_count": 20,
     "metadata": {},
     "output_type": "execute_result"
    }
   ],
   "source": [
    "alpha.is_integer"
   ]
  },
  {
   "cell_type": "code",
   "execution_count": 21,
   "metadata": {},
   "outputs": [
    {
     "data": {
      "text/plain": [
       "False"
      ]
     },
     "execution_count": 21,
     "metadata": {},
     "output_type": "execute_result"
    }
   ],
   "source": [
    "alpha.is_prime"
   ]
  },
  {
   "cell_type": "code",
   "execution_count": 22,
   "metadata": {},
   "outputs": [],
   "source": [
    "alpha.is_finite"
   ]
  },
  {
   "cell_type": "code",
   "execution_count": 23,
   "metadata": {},
   "outputs": [],
   "source": [
    "alpha.is_infinite"
   ]
  },
  {
   "cell_type": "markdown",
   "metadata": {},
   "source": [
    "## 4. Numbers <a id='section4'></a>\n",
    "\n",
    "SymPy provides its own integer and float classes, sympy.Integer and sympy.Float, respectively. These are distinct from the int and float types in Python. One of the main differences is that sympy.Integer and sympy.Float have arbitrary precision, whereas int and float do not. \n",
    "\n",
    "In addition to integers and floats, sympy also provides a class for rational numbers, sympy.Rational.\n",
    "\n",
    "Finally, sympy provides predefined symbols for various special constants used in mathematics, such as $\\pi$ and $e$."
   ]
  },
  {
   "cell_type": "markdown",
   "metadata": {},
   "source": [
    "### Integer( )"
   ]
  },
  {
   "cell_type": "code",
   "execution_count": 180,
   "metadata": {},
   "outputs": [
    {
     "data": {
      "text/plain": [
       "int"
      ]
     },
     "execution_count": 180,
     "metadata": {},
     "output_type": "execute_result"
    }
   ],
   "source": [
    "# this is a python integer\n",
    "a = 3\n",
    "type(a)"
   ]
  },
  {
   "cell_type": "code",
   "execution_count": 181,
   "metadata": {},
   "outputs": [
    {
     "data": {
      "text/plain": [
       "sympy.core.numbers.Integer"
      ]
     },
     "execution_count": 181,
     "metadata": {},
     "output_type": "execute_result"
    }
   ],
   "source": [
    "# this is a sympy integer\n",
    "b = sym.Integer(3)\n",
    "type(b)"
   ]
  },
  {
   "cell_type": "code",
   "execution_count": 182,
   "metadata": {},
   "outputs": [
    {
     "data": {
      "text/plain": [
       "(True, True)"
      ]
     },
     "execution_count": 182,
     "metadata": {},
     "output_type": "execute_result"
    }
   ],
   "source": [
    "# instances of sympy.Integer have the attribute Integer (capital \"I\"),\n",
    "# as well as the attribute integer (lower case \"i\")\n",
    "b = sym.Integer(8)\n",
    "b.is_Integer, b.is_integer"
   ]
  },
  {
   "cell_type": "code",
   "execution_count": 183,
   "metadata": {},
   "outputs": [
    {
     "data": {
      "text/plain": [
       "(True, False)"
      ]
     },
     "execution_count": 183,
     "metadata": {},
     "output_type": "execute_result"
    }
   ],
   "source": [
    "# instances of sympy.Symbols with integer=True,\n",
    "# have the attribute integer (lower case \"i\"),\n",
    "# but do NOT have the attribute Integer (capital \"I\")\n",
    "c = sym.symbols(\"c\", integer=True)\n",
    "c.is_integer, c.is_Integer"
   ]
  },
  {
   "cell_type": "markdown",
   "metadata": {},
   "source": [
    "### Float( )"
   ]
  },
  {
   "cell_type": "code",
   "execution_count": 184,
   "metadata": {},
   "outputs": [
    {
     "data": {
      "text/plain": [
       "float"
      ]
     },
     "execution_count": 184,
     "metadata": {},
     "output_type": "execute_result"
    }
   ],
   "source": [
    "# this is a python float\n",
    "a = 3.0\n",
    "type(a)"
   ]
  },
  {
   "cell_type": "code",
   "execution_count": 185,
   "metadata": {},
   "outputs": [
    {
     "data": {
      "text/plain": [
       "sympy.core.numbers.Float"
      ]
     },
     "execution_count": 185,
     "metadata": {},
     "output_type": "execute_result"
    }
   ],
   "source": [
    "# this is a sympy float\n",
    "b = sym.Float(3.0)\n",
    "type(b)"
   ]
  },
  {
   "cell_type": "code",
   "execution_count": 186,
   "metadata": {},
   "outputs": [
    {
     "data": {
      "text/plain": [
       "'0.2999999999999999888977698'"
      ]
     },
     "execution_count": 186,
     "metadata": {},
     "output_type": "execute_result"
    }
   ],
   "source": [
    "# this is a python float to 25 digit precision\n",
    "a = \"%.25f\" % 0.3\n",
    "a"
   ]
  },
  {
   "cell_type": "code",
   "execution_count": 187,
   "metadata": {},
   "outputs": [
    {
     "data": {
      "image/png": "[encoded data removed]",
      "text/latex": [
       "$$0.3$$"
      ],
      "text/plain": [
       "0.3000000000000000000000000"
      ]
     },
     "execution_count": 187,
     "metadata": {},
     "output_type": "execute_result"
    }
   ],
   "source": [
    "# this is a sympy float with 25 digit precision\n",
    "b = sym.Float('0.3', 25)\n",
    "b"
   ]
  },
  {
   "cell_type": "markdown",
   "metadata": {},
   "source": [
    "### Rational( )"
   ]
  },
  {
   "cell_type": "code",
   "execution_count": 188,
   "metadata": {},
   "outputs": [
    {
     "data": {
      "image/png": "[encoded data removed]",
      "text/latex": [
       "$$\\left ( \\frac{2}{3}, \\quad \\frac{3}{2}, \\quad \\frac{1694479359798149}{1125899906842624}\\right )$$"
      ],
      "text/plain": [
       "⎛          1694479359798149⎞\n",
       "⎜2/3, 3/2, ────────────────⎟\n",
       "⎝          1125899906842624⎠"
      ]
     },
     "execution_count": 188,
     "metadata": {},
     "output_type": "execute_result"
    }
   ],
   "source": [
    "# here are examples of sympy rationals\n",
    "a = sym.Rational(2, 3)\n",
    "b = sym.Rational(3, 2)\n",
    "c = sym.Rational(3.01, 2)\n",
    "a, b, c"
   ]
  },
  {
   "cell_type": "code",
   "execution_count": 189,
   "metadata": {},
   "outputs": [
    {
     "data": {
      "image/png": "[encoded data removed]",
      "text/latex": [
       "$$\\left ( \\frac{1}{10}, \\quad \\frac{123}{100}, \\quad \\frac{1}{10000}\\right )$$"
      ],
      "text/plain": [
       "⎛      123         ⎞\n",
       "⎜1/10, ───, 1/10000⎟\n",
       "⎝      100         ⎠"
      ]
     },
     "execution_count": 189,
     "metadata": {},
     "output_type": "execute_result"
    }
   ],
   "source": [
    "# more examples of sympy rationals\n",
    "d = sym.Rational('0.1')\n",
    "e = sym.Rational('1.23')\n",
    "f = sym.Rational('1e-4')\n",
    "d, e, f"
   ]
  },
  {
   "cell_type": "code",
   "execution_count": 190,
   "metadata": {},
   "outputs": [
    {
     "data": {
      "image/png": "[encoded data removed]",
      "text/latex": [
       "$$\\left ( \\frac{17}{12}, \\quad - \\frac{1}{12}, \\quad \\frac{1}{2}, \\quad \\frac{8}{9}\\right )$$"
      ],
      "text/plain": [
       "⎛17                 ⎞\n",
       "⎜──, -1/12, 1/2, 8/9⎟\n",
       "⎝12                 ⎠"
      ]
     },
     "execution_count": 190,
     "metadata": {},
     "output_type": "execute_result"
    }
   ],
   "source": [
    "# algebraic operations between sympy rationals preserve the type\n",
    "a = sym.Rational(2,3)\n",
    "b = sym.Rational(3,4)\n",
    "a+b, a-b, a*b, a/b"
   ]
  },
  {
   "cell_type": "markdown",
   "metadata": {},
   "source": [
    "### Special symbols"
   ]
  },
  {
   "cell_type": "code",
   "execution_count": 35,
   "metadata": {},
   "outputs": [
    {
     "data": {
      "image/png": "[encoded data removed]",
      "text/latex": [
       "$$\\pi$$"
      ],
      "text/plain": [
       "π"
      ]
     },
     "execution_count": 35,
     "metadata": {},
     "output_type": "execute_result"
    }
   ],
   "source": [
    "# predefined sympy symbol for pi\n",
    "sym.pi"
   ]
  },
  {
   "cell_type": "code",
   "execution_count": 36,
   "metadata": {},
   "outputs": [
    {
     "data": {
      "image/png": "[encoded data removed]",
      "text/latex": [
       "$$e$$"
      ],
      "text/plain": [
       "ℯ"
      ]
     },
     "execution_count": 36,
     "metadata": {},
     "output_type": "execute_result"
    }
   ],
   "source": [
    "# predefined sympy symbol for e\n",
    "sym.E"
   ]
  },
  {
   "cell_type": "code",
   "execution_count": 37,
   "metadata": {},
   "outputs": [
    {
     "data": {
      "image/png": "[encoded data removed]",
      "text/latex": [
       "$$\\gamma$$"
      ],
      "text/plain": [
       "γ"
      ]
     },
     "execution_count": 37,
     "metadata": {},
     "output_type": "execute_result"
    }
   ],
   "source": [
    "# predefined sympy symbol for Euler's constant\n",
    "sym.EulerGamma"
   ]
  },
  {
   "cell_type": "code",
   "execution_count": 38,
   "metadata": {},
   "outputs": [
    {
     "data": {
      "image/png": "[encoded data removed]",
      "text/latex": [
       "$$i$$"
      ],
      "text/plain": [
       "ⅈ"
      ]
     },
     "execution_count": 38,
     "metadata": {},
     "output_type": "execute_result"
    }
   ],
   "source": [
    "# predefined sympy symbol for i\n",
    "sym.I"
   ]
  },
  {
   "cell_type": "code",
   "execution_count": 39,
   "metadata": {},
   "outputs": [
    {
     "data": {
      "image/png": "[encoded data removed]",
      "text/latex": [
       "$$\\infty$$"
      ],
      "text/plain": [
       "∞"
      ]
     },
     "execution_count": 39,
     "metadata": {},
     "output_type": "execute_result"
    }
   ],
   "source": [
    "# predefined sympy symbol for infinity\n",
    "sym.oo"
   ]
  },
  {
   "cell_type": "markdown",
   "metadata": {},
   "source": [
    "## 5. Functions <a id='section5'></a>\n",
    "\n",
    "Sympy objects that represent functions can be created with sympy.Function( ). User-defined functions can be created with sympy.Lambda( ). Sympy also has a wide variety of predefined functions, such as sympy.sin( ) and sympy.cos( ). "
   ]
  },
  {
   "cell_type": "markdown",
   "metadata": {},
   "source": [
    "### Function( )"
   ]
  },
  {
   "cell_type": "code",
   "execution_count": 191,
   "metadata": {},
   "outputs": [
    {
     "data": {
      "text/plain": [
       "f"
      ]
     },
     "execution_count": 191,
     "metadata": {},
     "output_type": "execute_result"
    }
   ],
   "source": [
    "# create an undefined function with an arbitrary number of input variables\n",
    "f = sym.Function(\"f\")\n",
    "f"
   ]
  },
  {
   "cell_type": "code",
   "execution_count": 192,
   "metadata": {},
   "outputs": [
    {
     "data": {
      "image/png": "[encoded data removed]",
      "text/latex": [
       "$$f{\\left (x \\right )}$$"
      ],
      "text/plain": [
       "f(x)"
      ]
     },
     "execution_count": 192,
     "metadata": {},
     "output_type": "execute_result"
    }
   ],
   "source": [
    "# create an undefined function of one variable\n",
    "x = sym.symbols(\"x\")\n",
    "f = sym.Function(\"f\")(x)\n",
    "f"
   ]
  },
  {
   "cell_type": "code",
   "execution_count": 193,
   "metadata": {},
   "outputs": [
    {
     "data": {
      "image/png": "[encoded data removed]",
      "text/latex": [
       "$$f{\\left (x,y \\right )}$$"
      ],
      "text/plain": [
       "f(x, y)"
      ]
     },
     "execution_count": 193,
     "metadata": {},
     "output_type": "execute_result"
    }
   ],
   "source": [
    "# create an undefined function of two variables\n",
    "x, y = sym.symbols(\"x, y\")\n",
    "f = sym.Function(\"f\")(x, y)\n",
    "f"
   ]
  },
  {
   "cell_type": "markdown",
   "metadata": {},
   "source": [
    "### Lambda( )"
   ]
  },
  {
   "cell_type": "code",
   "execution_count": 70,
   "metadata": {},
   "outputs": [
    {
     "data": {
      "image/png": "[encoded data removed]",
      "text/latex": [
       "$$\\left ( \\left( x \\mapsto x^{2} \\right), \\quad x^{2}, \\quad 9, \\quad \\left(y + 4\\right)^{2}\\right )$$"
      ],
      "text/plain": [
       "⎛     2   2            2⎞\n",
       "⎝x ↦ x , x , 9, (y + 4) ⎠"
      ]
     },
     "execution_count": 70,
     "metadata": {},
     "output_type": "execute_result"
    }
   ],
   "source": [
    "# create a user-defined function\n",
    "f = sym.Lambda(x, x**2)\n",
    "f, f(x), f(3), f(y + 4)"
   ]
  },
  {
   "cell_type": "markdown",
   "metadata": {},
   "source": [
    "### Predefined functions"
   ]
  },
  {
   "cell_type": "code",
   "execution_count": 194,
   "metadata": {},
   "outputs": [
    {
     "data": {
      "image/png": "[encoded data removed]",
      "text/latex": [
       "$$\\sin{\\left (x \\right )}$$"
      ],
      "text/plain": [
       "sin(x)"
      ]
     },
     "execution_count": 194,
     "metadata": {},
     "output_type": "execute_result"
    }
   ],
   "source": [
    "# sine\n",
    "sym.sin(x)"
   ]
  },
  {
   "cell_type": "code",
   "execution_count": 195,
   "metadata": {},
   "outputs": [
    {
     "data": {
      "image/png": "[encoded data removed]",
      "text/latex": [
       "$$\\cos{\\left (x \\right )}$$"
      ],
      "text/plain": [
       "cos(x)"
      ]
     },
     "execution_count": 195,
     "metadata": {},
     "output_type": "execute_result"
    }
   ],
   "source": [
    "#cosine\n",
    "sym.cos(x)"
   ]
  },
  {
   "cell_type": "code",
   "execution_count": 196,
   "metadata": {},
   "outputs": [
    {
     "data": {
      "image/png": "[encoded data removed]",
      "text/latex": [
       "$$\\log{\\left (x + 1 \\right )}$$"
      ],
      "text/plain": [
       "log(x + 1)"
      ]
     },
     "execution_count": 196,
     "metadata": {},
     "output_type": "execute_result"
    }
   ],
   "source": [
    "# log\n",
    "sym.log(x+1)"
   ]
  },
  {
   "cell_type": "code",
   "execution_count": 197,
   "metadata": {},
   "outputs": [
    {
     "data": {
      "image/png": "[encoded data removed]",
      "text/latex": [
       "$$e^{- x^{2}}$$"
      ],
      "text/plain": [
       "   2\n",
       " -x \n",
       "ℯ   "
      ]
     },
     "execution_count": 197,
     "metadata": {},
     "output_type": "execute_result"
    }
   ],
   "source": [
    "# exponential \n",
    "sym.exp(-x**2)"
   ]
  },
  {
   "cell_type": "markdown",
   "metadata": {},
   "source": [
    "## 6. Manipulating Expressions <a id='section6'></a>\n",
    "\n",
    "Expressions are formed by combining symbols and functions. There are numerous ways of manipulating expressions. Many of these are illustrated in the examples below."
   ]
  },
  {
   "cell_type": "code",
   "execution_count": 105,
   "metadata": {},
   "outputs": [
    {
     "data": {
      "image/png": "[encoded data removed]",
      "text/latex": [
       "$$3 x^{2} + 2 x y + 1$$"
      ],
      "text/plain": [
       "   2            \n",
       "3⋅x  + 2⋅x⋅y + 1"
      ]
     },
     "execution_count": 105,
     "metadata": {},
     "output_type": "execute_result"
    }
   ],
   "source": [
    "# create an expression\n",
    "x, y = sym.symbols(\"x, y\")\n",
    "expr = 1 + 2*x*y + 3*x**2\n",
    "expr"
   ]
  },
  {
   "cell_type": "markdown",
   "metadata": {},
   "source": [
    "### simplify( )"
   ]
  },
  {
   "cell_type": "code",
   "execution_count": 106,
   "metadata": {},
   "outputs": [
    {
     "data": {
      "image/png": "[encoded data removed]",
      "text/latex": [
       "$$\\left ( 2 x^{2} - x \\left(x + 1\\right) - 2 x, \\quad x \\left(x - 3\\right)\\right )$$"
      ],
      "text/plain": [
       "⎛   2                             ⎞\n",
       "⎝2⋅x  - x⋅(x + 1) - 2⋅x, x⋅(x - 3)⎠"
      ]
     },
     "execution_count": 106,
     "metadata": {},
     "output_type": "execute_result"
    }
   ],
   "source": [
    "# simplify an expression\n",
    "x = sym.symbols(\"x\")\n",
    "expr1 = 2*(x**2 - x) - x*(x + 1)\n",
    "expr2 = sym.simplify(expr1)\n",
    "expr1, expr2"
   ]
  },
  {
   "cell_type": "code",
   "execution_count": 107,
   "metadata": {},
   "outputs": [
    {
     "data": {
      "image/png": "[encoded data removed]",
      "text/latex": [
       "$$\\left ( 2 x^{2} - x \\left(x + 1\\right) - 2 x, \\quad x \\left(x - 3\\right)\\right )$$"
      ],
      "text/plain": [
       "⎛   2                             ⎞\n",
       "⎝2⋅x  - x⋅(x + 1) - 2⋅x, x⋅(x - 3)⎠"
      ]
     },
     "execution_count": 107,
     "metadata": {},
     "output_type": "execute_result"
    }
   ],
   "source": [
    "# another way to simplify an expression\n",
    "x = sym.symbols(\"x\")\n",
    "expr1 = 2*(x**2 - x) - x*(x + 1)\n",
    "expr2 = expr1.simplify()\n",
    "expr1, expr2"
   ]
  },
  {
   "cell_type": "markdown",
   "metadata": {},
   "source": [
    "### trigsimp( )"
   ]
  },
  {
   "cell_type": "code",
   "execution_count": 108,
   "metadata": {},
   "outputs": [
    {
     "data": {
      "image/png": "[encoded data removed]",
      "text/latex": [
       "$$\\left ( 2 \\sin{\\left (x \\right )} \\cos{\\left (x \\right )}, \\quad \\sin{\\left (2 x \\right )}\\right )$$"
      ],
      "text/plain": [
       "(2⋅sin(x)⋅cos(x), sin(2⋅x))"
      ]
     },
     "execution_count": 108,
     "metadata": {},
     "output_type": "execute_result"
    }
   ],
   "source": [
    "# simplify an expression using trig identities\n",
    "x = sym.symbols(\"x\")\n",
    "expr = 2*sym.cos(x)*sym.sin(x)\n",
    "expr, expr.trigsimp()"
   ]
  },
  {
   "cell_type": "markdown",
   "metadata": {},
   "source": [
    "### powsimp( )"
   ]
  },
  {
   "cell_type": "code",
   "execution_count": 109,
   "metadata": {},
   "outputs": [
    {
     "data": {
      "image/png": "[encoded data removed]",
      "text/latex": [
       "$$\\left ( e^{x} e^{y}, \\quad e^{x + y}\\right )$$"
      ],
      "text/plain": [
       "⎛ x  y   x + y⎞\n",
       "⎝ℯ ⋅ℯ , ℯ     ⎠"
      ]
     },
     "execution_count": 109,
     "metadata": {},
     "output_type": "execute_result"
    }
   ],
   "source": [
    "# simplify an expression using laws of powers\n",
    "x, y = sym.symbols(\"x, y\")\n",
    "expr = sym.exp(x)*sym.exp(y)\n",
    "expr, expr.powsimp()"
   ]
  },
  {
   "cell_type": "markdown",
   "metadata": {},
   "source": [
    "### ratsimp( )"
   ]
  },
  {
   "cell_type": "code",
   "execution_count": 110,
   "metadata": {},
   "outputs": [
    {
     "data": {
      "image/png": "[encoded data removed]",
      "text/latex": [
       "$$\\left ( \\frac{1}{y} + \\frac{1}{x}, \\quad \\frac{x + y}{x y}\\right )$$"
      ],
      "text/plain": [
       "⎛1   1  x + y⎞\n",
       "⎜─ + ─, ─────⎟\n",
       "⎝y   x   x⋅y ⎠"
      ]
     },
     "execution_count": 110,
     "metadata": {},
     "output_type": "execute_result"
    }
   ],
   "source": [
    "# simplify an expression by combining common denominator\n",
    "x, y = sym.symbols(\"x, y\")\n",
    "expr = 1/x + 1/y\n",
    "expr, expr.ratsimp()"
   ]
  },
  {
   "cell_type": "markdown",
   "metadata": {},
   "source": [
    "### expand( )"
   ]
  },
  {
   "cell_type": "code",
   "execution_count": 111,
   "metadata": {},
   "outputs": [
    {
     "data": {
      "image/png": "[encoded data removed]",
      "text/latex": [
       "$$\\left ( \\left(x + 1\\right) \\left(x + 2\\right), \\quad x^{2} + 3 x + 2\\right )$$"
      ],
      "text/plain": [
       "⎛                  2          ⎞\n",
       "⎝(x + 1)⋅(x + 2), x  + 3⋅x + 2⎠"
      ]
     },
     "execution_count": 111,
     "metadata": {},
     "output_type": "execute_result"
    }
   ],
   "source": [
    "# expand an expression\n",
    "x = sym.symbols(\"x\")\n",
    "expr = (1 + x)*(2 + x)\n",
    "expr, sym.expand(expr)"
   ]
  },
  {
   "cell_type": "code",
   "execution_count": 112,
   "metadata": {},
   "outputs": [
    {
     "data": {
      "image/png": "[encoded data removed]",
      "text/latex": [
       "$$\\left ( \\left(x + 1\\right) \\left(x + 2\\right), \\quad x^{2} + 3 x + 2\\right )$$"
      ],
      "text/plain": [
       "⎛                  2          ⎞\n",
       "⎝(x + 1)⋅(x + 2), x  + 3⋅x + 2⎠"
      ]
     },
     "execution_count": 112,
     "metadata": {},
     "output_type": "execute_result"
    }
   ],
   "source": [
    "# another way to expand an expression\n",
    "x = sym.symbols(\"x\")\n",
    "expr = (1 + x)*(2 + x)\n",
    "expr, expr.expand()"
   ]
  },
  {
   "cell_type": "code",
   "execution_count": 113,
   "metadata": {},
   "outputs": [
    {
     "data": {
      "image/png": "[encoded data removed]",
      "text/latex": [
       "$$\\left ( \\sin{\\left (x + y \\right )}, \\quad \\sin{\\left (x \\right )} \\cos{\\left (y \\right )} + \\sin{\\left (y \\right )} \\cos{\\left (x \\right )}\\right )$$"
      ],
      "text/plain": [
       "(sin(x + y), sin(x)⋅cos(y) + sin(y)⋅cos(x))"
      ]
     },
     "execution_count": 113,
     "metadata": {},
     "output_type": "execute_result"
    }
   ],
   "source": [
    "# expand a trig expression\n",
    "x, y = sym.symbols(\"x, y\")\n",
    "expr = sym.sin(x + y)\n",
    "expr, expr.expand(trig=True)"
   ]
  },
  {
   "cell_type": "code",
   "execution_count": 114,
   "metadata": {},
   "outputs": [
    {
     "data": {
      "image/png": "[encoded data removed]",
      "text/latex": [
       "$$\\left ( \\log{\\left (x y \\right )}, \\quad \\log{\\left (x \\right )} + \\log{\\left (y \\right )}\\right )$$"
      ],
      "text/plain": [
       "(log(x⋅y), log(x) + log(y))"
      ]
     },
     "execution_count": 114,
     "metadata": {},
     "output_type": "execute_result"
    }
   ],
   "source": [
    "# expand a log expression\n",
    "x, y = sym.symbols(\"x, y\",positive=True)\n",
    "expr = sym.log(x*y)\n",
    "expr, expr.expand(log=True)"
   ]
  },
  {
   "cell_type": "code",
   "execution_count": 115,
   "metadata": {},
   "outputs": [
    {
     "data": {
      "image/png": "[encoded data removed]",
      "text/latex": [
       "$$\\left ( e^{x + i y}, \\quad i e^{x} \\sin{\\left (y \\right )} + e^{x} \\cos{\\left (y \\right )}\\right )$$"
      ],
      "text/plain": [
       "⎛ x + ⅈ⋅y     x           x       ⎞\n",
       "⎝ℯ       , ⅈ⋅ℯ ⋅sin(y) + ℯ ⋅cos(y)⎠"
      ]
     },
     "execution_count": 115,
     "metadata": {},
     "output_type": "execute_result"
    }
   ],
   "source": [
    "# separate a complex expression into real and imaginary parts\n",
    "x, y = sym.symbols(\"x, y\", real=True)\n",
    "expr = sym.exp(x + y*sym.I)\n",
    "expr, expr.expand(complex=True)"
   ]
  },
  {
   "cell_type": "code",
   "execution_count": 116,
   "metadata": {},
   "outputs": [
    {
     "data": {
      "image/png": "[encoded data removed]",
      "text/latex": [
       "$$\\left ( \\left(a b\\right)^{x}, \\quad a^{x} b^{x}\\right )$$"
      ],
      "text/plain": [
       "⎛     x   x  x⎞\n",
       "⎝(a⋅b) , a ⋅b ⎠"
      ]
     },
     "execution_count": 116,
     "metadata": {},
     "output_type": "execute_result"
    }
   ],
   "source": [
    "# expand the base of a power expression\n",
    "a, b = sym.symbols(\"a, b\", positive=True)\n",
    "x = sym.symbols(\"x\")\n",
    "expr = (a*b)**x\n",
    "expr, expr.expand(power_base=True)"
   ]
  },
  {
   "cell_type": "code",
   "execution_count": 117,
   "metadata": {},
   "outputs": [
    {
     "data": {
      "image/png": "[encoded data removed]",
      "text/latex": [
       "$$\\left ( e^{x \\left(a - b\\right)}, \\quad e^{a x} e^{- b x}\\right )$$"
      ],
      "text/plain": [
       "⎛ x⋅(a - b)   a⋅x  -b⋅x⎞\n",
       "⎝ℯ         , ℯ   ⋅ℯ    ⎠"
      ]
     },
     "execution_count": 117,
     "metadata": {},
     "output_type": "execute_result"
    }
   ],
   "source": [
    "# expand the exponent of a power expression\n",
    "a, b = sym.symbols(\"a, b\", positive=True)\n",
    "x = sym.symbols(\"x\")\n",
    "expr = sym.exp((a - b)*x)\n",
    "expr, expr.expand(power_exp=True)"
   ]
  },
  {
   "cell_type": "markdown",
   "metadata": {},
   "source": [
    "### factor( )"
   ]
  },
  {
   "cell_type": "code",
   "execution_count": 118,
   "metadata": {},
   "outputs": [
    {
     "data": {
      "image/png": "[encoded data removed]",
      "text/latex": [
       "$$\\left ( x^{2} - 1, \\quad \\left(x - 1\\right) \\left(x + 1\\right)\\right )$$"
      ],
      "text/plain": [
       "⎛ 2                     ⎞\n",
       "⎝x  - 1, (x - 1)⋅(x + 1)⎠"
      ]
     },
     "execution_count": 118,
     "metadata": {},
     "output_type": "execute_result"
    }
   ],
   "source": [
    "# factor an expression\n",
    "x = sym.symbols(\"x\")\n",
    "expr = x**2 -1\n",
    "expr, expr.factor()"
   ]
  },
  {
   "cell_type": "markdown",
   "metadata": {},
   "source": [
    "### logcombine( )"
   ]
  },
  {
   "cell_type": "code",
   "execution_count": 119,
   "metadata": {},
   "outputs": [
    {
     "data": {
      "image/png": "[encoded data removed]",
      "text/latex": [
       "$$\\left ( \\log{\\left (x \\right )} + \\log{\\left (y \\right )}, \\quad \\log{\\left (x y \\right )}\\right )$$"
      ],
      "text/plain": [
       "(log(x) + log(y), log(x⋅y))"
      ]
     },
     "execution_count": 119,
     "metadata": {},
     "output_type": "execute_result"
    }
   ],
   "source": [
    "# combine a log expression\n",
    "x, y = sym.symbols(\"x, y\",positive=True)\n",
    "expr = sym.log(x) + sym.log(y)\n",
    "expr, sym.logcombine(expr)"
   ]
  },
  {
   "cell_type": "markdown",
   "metadata": {},
   "source": [
    "### collect( )"
   ]
  },
  {
   "cell_type": "code",
   "execution_count": 120,
   "metadata": {},
   "outputs": [
    {
     "data": {
      "image/png": "[encoded data removed]",
      "text/latex": [
       "$$\\left ( x y z + x + y, \\quad x \\left(y z + 1\\right) + y, \\quad x + y \\left(x z + 1\\right)\\right )$$"
      ],
      "text/plain": [
       "(x⋅y⋅z + x + y, x⋅(y⋅z + 1) + y, x + y⋅(x⋅z + 1))"
      ]
     },
     "execution_count": 120,
     "metadata": {},
     "output_type": "execute_result"
    }
   ],
   "source": [
    "# collecting terms containing a given symbol\n",
    "x, y, z = sym.symbols(\"x, y, z\")\n",
    "expr = x + y + x*y*z\n",
    "expr, expr.collect(x), expr.collect(y)"
   ]
  },
  {
   "cell_type": "markdown",
   "metadata": {},
   "source": [
    "### apart( )"
   ]
  },
  {
   "cell_type": "code",
   "execution_count": 122,
   "metadata": {},
   "outputs": [
    {
     "data": {
      "image/png": "[encoded data removed]",
      "text/latex": [
       "$$\\left ( \\frac{1}{x^{2} + 3 x + 2}, \\quad - \\frac{1}{x + 2} + \\frac{1}{x + 1}\\right )$$"
      ],
      "text/plain": [
       "⎛     1            1       1  ⎞\n",
       "⎜────────────, - ───── + ─────⎟\n",
       "⎜ 2              x + 2   x + 1⎟\n",
       "⎝x  + 3⋅x + 2                 ⎠"
      ]
     },
     "execution_count": 122,
     "metadata": {},
     "output_type": "execute_result"
    }
   ],
   "source": [
    "# break a fraction into a partial fraction\n",
    "x = sym.symbols(\"x\")\n",
    "expr = 1/(x**2 + 3*x + 2)\n",
    "expr, expr.apart(x)"
   ]
  },
  {
   "cell_type": "markdown",
   "metadata": {},
   "source": [
    "### together( )"
   ]
  },
  {
   "cell_type": "code",
   "execution_count": 123,
   "metadata": {},
   "outputs": [
    {
     "data": {
      "image/png": "[encoded data removed]",
      "text/latex": [
       "$$\\left ( - \\frac{1}{x + 2} + \\frac{1}{x + 1}, \\quad \\frac{1}{\\left(x + 1\\right) \\left(x + 2\\right)}\\right )$$"
      ],
      "text/plain": [
       "⎛    1       1           1       ⎞\n",
       "⎜- ───── + ─────, ───────────────⎟\n",
       "⎝  x + 2   x + 1  (x + 1)⋅(x + 2)⎠"
      ]
     },
     "execution_count": 123,
     "metadata": {},
     "output_type": "execute_result"
    }
   ],
   "source": [
    "# combine partial fractions into a single fraction\n",
    "x = sym.symbols(\"x\")\n",
    "expr = 1/(x + 1) - 1/(x + 2)\n",
    "expr, expr.together()"
   ]
  },
  {
   "cell_type": "markdown",
   "metadata": {},
   "source": [
    "### cancel( )"
   ]
  },
  {
   "cell_type": "code",
   "execution_count": 124,
   "metadata": {},
   "outputs": [
    {
     "data": {
      "image/png": "[encoded data removed]",
      "text/latex": [
       "$$\\left ( \\frac{y}{y^{2} + y}, \\quad \\frac{1}{y + 1}\\right )$$"
      ],
      "text/plain": [
       "⎛  y       1  ⎞\n",
       "⎜──────, ─────⎟\n",
       "⎜ 2      y + 1⎟\n",
       "⎝y  + y       ⎠"
      ]
     },
     "execution_count": 124,
     "metadata": {},
     "output_type": "execute_result"
    }
   ],
   "source": [
    "# break a fraction into a partial fraction\n",
    "x, y = sym.symbols(\"x, y\")\n",
    "expr = y/(y + y**2)\n",
    "expr, expr.cancel(y)"
   ]
  },
  {
   "cell_type": "markdown",
   "metadata": {},
   "source": [
    "### subs( )"
   ]
  },
  {
   "cell_type": "code",
   "execution_count": 199,
   "metadata": {},
   "outputs": [
    {
     "data": {
      "image/png": "[encoded data removed]",
      "text/latex": [
       "$$\\left ( x + 2, \\quad y + 2\\right )$$"
      ],
      "text/plain": [
       "(x + 2, y + 2)"
      ]
     },
     "execution_count": 199,
     "metadata": {},
     "output_type": "execute_result"
    }
   ],
   "source": [
    "# substitute one symbol for another in an expression\n",
    "x, y = sym.symbols(\"x, y\")\n",
    "expr = x + 2\n",
    "expr, expr.subs(x,y)"
   ]
  },
  {
   "cell_type": "code",
   "execution_count": 204,
   "metadata": {},
   "outputs": [
    {
     "data": {
      "image/png": "[encoded data removed]",
      "text/latex": [
       "$$\\left ( z + e^{y} + \\sin{\\left (x \\right )}, \\quad c + e^{b} + \\sin{\\left (a \\right )}\\right )$$"
      ],
      "text/plain": [
       "⎛     y                b         ⎞\n",
       "⎝z + ℯ  + sin(x), c + ℯ  + sin(a)⎠"
      ]
     },
     "execution_count": 204,
     "metadata": {},
     "output_type": "execute_result"
    }
   ],
   "source": [
    "# make multiple symbol substitutions in an expression\n",
    "x, y, z = sym.symbols(\"x, y, z\")\n",
    "a, b, c = sym.symbols(\"a, b, c\")\n",
    "expr = sym.sin(x) + sym.exp(y) + z\n",
    "expr, expr.subs({x:a, y:b, z:c})"
   ]
  },
  {
   "cell_type": "code",
   "execution_count": 214,
   "metadata": {},
   "outputs": [
    {
     "data": {
      "image/png": "[encoded data removed]",
      "text/latex": [
       "$$\\left ( a + b x + c x^{2}, \\quad - 5 x^{2} + 2 x + 1.2\\right )$$"
      ],
      "text/plain": [
       "⎛             2       2            ⎞\n",
       "⎝a + b⋅x + c⋅x , - 5⋅x  + 2⋅x + 1.2⎠"
      ]
     },
     "execution_count": 214,
     "metadata": {},
     "output_type": "execute_result"
    }
   ],
   "source": [
    "# make numeric substitutions in an expression\n",
    "x = sym.symbols(\"x\")\n",
    "a, b, c = sym.symbols(\"a, b, c\")\n",
    "expr = a + b*x + c*x**2\n",
    "params = {a:1.2, b:2, c:-5}\n",
    "expr, expr.subs(params)"
   ]
  },
  {
   "cell_type": "code",
   "execution_count": 215,
   "metadata": {},
   "outputs": [
    {
     "data": {
      "image/png": "[encoded data removed]",
      "text/latex": [
       "$$\\left ( z + e^{y} + \\sin{\\left (x \\right )}, \\quad x^{2} + \\log{\\left (x \\right )} + \\cos{\\left (y \\right )}\\right )$$"
      ],
      "text/plain": [
       "⎛     y            2                  ⎞\n",
       "⎝z + ℯ  + sin(x), x  + log(x) + cos(y)⎠"
      ]
     },
     "execution_count": 215,
     "metadata": {},
     "output_type": "execute_result"
    }
   ],
   "source": [
    "# substitute expressions in an expression\n",
    "x, y, z = sym.symbols(\"x, y, z\")\n",
    "expr = sym.sin(x) + sym.exp(y) + z\n",
    "expr, expr.subs({sym.sin(x): x**2, sym.exp: sym.cos, z: sym.log(x)})"
   ]
  },
  {
   "cell_type": "markdown",
   "metadata": {},
   "source": [
    "## 7. Numerical evaluation <a id='section7'></a>"
   ]
  },
  {
   "cell_type": "markdown",
   "metadata": {},
   "source": [
    "### N( )"
   ]
  },
  {
   "cell_type": "code",
   "execution_count": 216,
   "metadata": {},
   "outputs": [
    {
     "data": {
      "image/png": "[encoded data removed]",
      "text/latex": [
       "$$3.14159265358979$$"
      ],
      "text/plain": [
       "3.14159265358979"
      ]
     },
     "execution_count": 216,
     "metadata": {},
     "output_type": "execute_result"
    }
   ],
   "source": [
    "# evaluate pi \n",
    "pi = sym.pi\n",
    "sym.N(pi)"
   ]
  },
  {
   "cell_type": "code",
   "execution_count": 217,
   "metadata": {},
   "outputs": [
    {
     "data": {
      "image/png": "[encoded data removed]",
      "text/latex": [
       "$$3.1415926535897932384626433832795028841971693993751$$"
      ],
      "text/plain": [
       "3.1415926535897932384626433832795028841971693993751"
      ]
     },
     "execution_count": 217,
     "metadata": {},
     "output_type": "execute_result"
    }
   ],
   "source": [
    "# evaluate pi to 50 digits \n",
    "pi = sym.pi\n",
    "sym.N(pi, 50)"
   ]
  },
  {
   "cell_type": "code",
   "execution_count": 218,
   "metadata": {},
   "outputs": [
    {
     "data": {
      "image/png": "[encoded data removed]",
      "text/latex": [
       "$$x + 3.14159265358979$$"
      ],
      "text/plain": [
       "x + 3.14159265358979"
      ]
     },
     "execution_count": 218,
     "metadata": {},
     "output_type": "execute_result"
    }
   ],
   "source": [
    "# evaluate pi in an expression\n",
    "x = sym.symbols(\"x\")\n",
    "pi = sym.pi\n",
    "expr = x + pi\n",
    "sym.N(expr)"
   ]
  },
  {
   "cell_type": "code",
   "execution_count": 219,
   "metadata": {},
   "outputs": [
    {
     "data": {
      "image/png": "[encoded data removed]",
      "text/latex": [
       "$$\\left ( \\left( x \\mapsto x + \\pi \\right), \\quad x + \\pi, \\quad 2 + \\pi, \\quad 5.14159265358979\\right )$$"
      ],
      "text/plain": [
       "(x ↦ x + π, x + π, 2 + π, 5.14159265358979)"
      ]
     },
     "execution_count": 219,
     "metadata": {},
     "output_type": "execute_result"
    }
   ],
   "source": [
    "# evaluate a user-defined function\n",
    "f = sym.Lambda(x, expr)\n",
    "f, f(x), f(2),  sym.N(f(2))"
   ]
  },
  {
   "cell_type": "markdown",
   "metadata": {},
   "source": [
    "### evalf( )"
   ]
  },
  {
   "cell_type": "code",
   "execution_count": 220,
   "metadata": {},
   "outputs": [
    {
     "data": {
      "image/png": "[encoded data removed]",
      "text/latex": [
       "$$3.14159265358979$$"
      ],
      "text/plain": [
       "3.14159265358979"
      ]
     },
     "execution_count": 220,
     "metadata": {},
     "output_type": "execute_result"
    }
   ],
   "source": [
    "# evaluate pi \n",
    "pi = sym.pi\n",
    "pi.evalf()"
   ]
  },
  {
   "cell_type": "code",
   "execution_count": 221,
   "metadata": {},
   "outputs": [
    {
     "data": {
      "image/png": "[encoded data removed]",
      "text/latex": [
       "$$3.1415926535897932384626433832795028841971693993751$$"
      ],
      "text/plain": [
       "3.1415926535897932384626433832795028841971693993751"
      ]
     },
     "execution_count": 221,
     "metadata": {},
     "output_type": "execute_result"
    }
   ],
   "source": [
    "# evaluate pi to 50 digits \n",
    "pi = sym.pi\n",
    "pi.evalf(50)"
   ]
  },
  {
   "cell_type": "code",
   "execution_count": 222,
   "metadata": {},
   "outputs": [
    {
     "data": {
      "image/png": "[encoded data removed]",
      "text/latex": [
       "$$x + 3.14159265358979$$"
      ],
      "text/plain": [
       "x + 3.14159265358979"
      ]
     },
     "execution_count": 222,
     "metadata": {},
     "output_type": "execute_result"
    }
   ],
   "source": [
    "# evaluate pi in an expression\n",
    "x = sym.symbols(\"x\")\n",
    "pi = sym.pi\n",
    "expr = x + pi\n",
    "expr.evalf()"
   ]
  },
  {
   "cell_type": "code",
   "execution_count": 223,
   "metadata": {},
   "outputs": [
    {
     "data": {
      "image/png": "[encoded data removed]",
      "text/latex": [
       "$$\\left ( \\left( x \\mapsto x + \\pi \\right), \\quad x + \\pi, \\quad 2 + \\pi, \\quad 5.14159265358979\\right )$$"
      ],
      "text/plain": [
       "(x ↦ x + π, x + π, 2 + π, 5.14159265358979)"
      ]
     },
     "execution_count": 223,
     "metadata": {},
     "output_type": "execute_result"
    }
   ],
   "source": [
    "# evaluate a user-defined function\n",
    "f = sym.Lambda(x, expr)\n",
    "f, f(x), f(2),  f(2).evalf()"
   ]
  },
  {
   "cell_type": "markdown",
   "metadata": {},
   "source": [
    "### lambdify( )"
   ]
  },
  {
   "cell_type": "code",
   "execution_count": 228,
   "metadata": {},
   "outputs": [
    {
     "data": {
      "text/plain": [
       "(<function numpy.<lambda>>, x + 3.14159265358979, 5.141592653589793)"
      ]
     },
     "execution_count": 228,
     "metadata": {},
     "output_type": "execute_result"
    }
   ],
   "source": [
    "# make a user-defined scalar function that will return numerical evaluations\n",
    "x = sym.symbols(\"x\")\n",
    "pi = sym.pi\n",
    "expr = x + pi\n",
    "g = sym.lambdify(x, expr)\n",
    "g, g(x), g(2)"
   ]
  },
  {
   "cell_type": "code",
   "execution_count": 231,
   "metadata": {},
   "outputs": [
    {
     "data": {
      "text/plain": [
       "array([  3.14159265,   4.14159265,   5.14159265,   6.14159265,\n",
       "         7.14159265,   8.14159265,   9.14159265,  10.14159265,\n",
       "        11.14159265,  12.14159265])"
      ]
     },
     "execution_count": 231,
     "metadata": {},
     "output_type": "execute_result"
    }
   ],
   "source": [
    "# make a user-defined vectorized function that will return numerical evaluations\n",
    "x = sym.symbols(\"x\")\n",
    "pi = sym.pi\n",
    "expr = x + pi\n",
    "\n",
    "f = sym.lambdify(x, expr, 'numpy')\n",
    "import numpy as np\n",
    "\n",
    "xvals = np.arange(0,10)\n",
    "\n",
    "f(xvals)"
   ]
  },
  {
   "cell_type": "markdown",
   "metadata": {},
   "source": [
    "## 8. Calculus <a id='section8'></a>"
   ]
  },
  {
   "cell_type": "markdown",
   "metadata": {},
   "source": [
    "### diff( )"
   ]
  },
  {
   "cell_type": "code",
   "execution_count": 265,
   "metadata": {},
   "outputs": [
    {
     "data": {
      "image/png": "[encoded data removed]",
      "text/latex": [
       "$$\\frac{d}{d x} f{\\left (x \\right )}$$"
      ],
      "text/plain": [
       "d       \n",
       "──(f(x))\n",
       "dx      "
      ]
     },
     "execution_count": 265,
     "metadata": {},
     "output_type": "execute_result"
    }
   ],
   "source": [
    "# oridinary derivative of an undefined function in one variable\n",
    "x = sym.symbols(\"x\")\n",
    "f = sym.Function(\"f\")(x)\n",
    "sym.diff(f, x)"
   ]
  },
  {
   "cell_type": "code",
   "execution_count": 266,
   "metadata": {},
   "outputs": [
    {
     "data": {
      "image/png": "[encoded data removed]",
      "text/latex": [
       "$$\\frac{d}{d x} f{\\left (x \\right )}$$"
      ],
      "text/plain": [
       "d       \n",
       "──(f(x))\n",
       "dx      "
      ]
     },
     "execution_count": 266,
     "metadata": {},
     "output_type": "execute_result"
    }
   ],
   "source": [
    "# another way of taking a derivative\n",
    "x = sym.symbols(\"x\")\n",
    "f = sym.Function(\"f\")(x)\n",
    "f.diff()"
   ]
  },
  {
   "cell_type": "code",
   "execution_count": 267,
   "metadata": {},
   "outputs": [
    {
     "data": {
      "image/png": "[encoded data removed]",
      "text/latex": [
       "$$\\left ( \\frac{d^{2}}{d x^{2}}  f{\\left (x \\right )}, \\quad \\frac{d^{3}}{d x^{3}}  f{\\left (x \\right )}, \\quad \\frac{d^{6}}{d x^{6}}  f{\\left (x \\right )}\\right )$$"
      ],
      "text/plain": [
       "⎛  2          3          6      ⎞\n",
       "⎜ d          d          d       ⎟\n",
       "⎜───(f(x)), ───(f(x)), ───(f(x))⎟\n",
       "⎜  2          3          6      ⎟\n",
       "⎝dx         dx         dx       ⎠"
      ]
     },
     "execution_count": 267,
     "metadata": {},
     "output_type": "execute_result"
    }
   ],
   "source": [
    "# higher-order derivatives\n",
    "x = sym.symbols(\"x\")\n",
    "f = sym.Function(\"f\")(x)\n",
    "f.diff(x, 2), f.diff(x, 3), f.diff(x, 6)"
   ]
  },
  {
   "cell_type": "code",
   "execution_count": 268,
   "metadata": {},
   "outputs": [
    {
     "data": {
      "image/png": "[encoded data removed]",
      "text/latex": [
       "$$\\left ( \\frac{\\partial}{\\partial x} g{\\left (x,y \\right )}, \\quad \\frac{\\partial}{\\partial y} g{\\left (x,y \\right )}\\right )$$"
      ],
      "text/plain": [
       "⎛∂            ∂          ⎞\n",
       "⎜──(g(x, y)), ──(g(x, y))⎟\n",
       "⎝∂x           ∂y         ⎠"
      ]
     },
     "execution_count": 268,
     "metadata": {},
     "output_type": "execute_result"
    }
   ],
   "source": [
    "# partial derivatives\n",
    "x, y = sym.symbols(\"x, y\")\n",
    "g = sym.Function(\"g\")(x, y)\n",
    "g.diff(x), g.diff(y)"
   ]
  },
  {
   "cell_type": "code",
   "execution_count": 269,
   "metadata": {},
   "outputs": [
    {
     "data": {
      "image/png": "[encoded data removed]",
      "text/latex": [
       "$$\\left ( \\frac{\\partial^{2}}{\\partial x^{2}}  g{\\left (x,y \\right )}, \\quad \\frac{\\partial^{2}}{\\partial x\\partial y}  g{\\left (x,y \\right )}, \\quad \\frac{\\partial^{2}}{\\partial x\\partial y}  g{\\left (x,y \\right )}, \\quad \\frac{\\partial^{2}}{\\partial y^{2}}  g{\\left (x,y \\right )}\\right )$$"
      ],
      "text/plain": [
       "⎛  2              2               2              2         ⎞\n",
       "⎜ ∂              ∂               ∂              ∂          ⎟\n",
       "⎜───(g(x, y)), ─────(g(x, y)), ─────(g(x, y)), ───(g(x, y))⎟\n",
       "⎜  2           ∂y ∂x           ∂y ∂x             2         ⎟\n",
       "⎝∂x                                            ∂y          ⎠"
      ]
     },
     "execution_count": 269,
     "metadata": {},
     "output_type": "execute_result"
    }
   ],
   "source": [
    "# second-order partial derivatives\n",
    "x, y = sym.symbols(\"x, y\")\n",
    "g = sym.Function(\"g\")(x, y)\n",
    "g.diff(x, 2), g.diff(x,y), g.diff(y,x), g.diff(y,2)"
   ]
  },
  {
   "cell_type": "code",
   "execution_count": 270,
   "metadata": {},
   "outputs": [
    {
     "data": {
      "image/png": "[encoded data removed]",
      "text/latex": [
       "$$\\left ( \\frac{\\partial^{3}}{\\partial x^{3}}  g{\\left (x,y \\right )}, \\quad \\frac{\\partial^{3}}{\\partial x^{2}\\partial y}  g{\\left (x,y \\right )}, \\quad \\frac{\\partial^{3}}{\\partial x\\partial y^{2}}  g{\\left (x,y \\right )}, \\quad \\frac{\\partial^{3}}{\\partial y^{3}}  g{\\left (x,y \\right )}\\right )$$"
      ],
      "text/plain": [
       "⎛  3              3                3               3         ⎞\n",
       "⎜ ∂              ∂                ∂               ∂          ⎟\n",
       "⎜───(g(x, y)), ──────(g(x, y)), ──────(g(x, y)), ───(g(x, y))⎟\n",
       "⎜  3                2             2                3         ⎟\n",
       "⎝∂x            ∂y ∂x            ∂y  ∂x           ∂y          ⎠"
      ]
     },
     "execution_count": 270,
     "metadata": {},
     "output_type": "execute_result"
    }
   ],
   "source": [
    "# higher-order partial derivatives\n",
    "x, y = sym.symbols(\"x, y\")\n",
    "g = sym.Function(\"g\")(x, y)\n",
    "g.diff(x, 3), g.diff(x, 2, y), g.diff(x, y, 2), g.diff(y, 3)"
   ]
  },
  {
   "cell_type": "markdown",
   "metadata": {},
   "source": [
    "### integrate( )"
   ]
  },
  {
   "cell_type": "code",
   "execution_count": 278,
   "metadata": {},
   "outputs": [
    {
     "data": {
      "image/png": "[encoded data removed]",
      "text/latex": [
       "$$\\int f{\\left (x \\right )}\\, dx$$"
      ],
      "text/plain": [
       "⌠        \n",
       "⎮ f(x) dx\n",
       "⌡        "
      ]
     },
     "execution_count": 278,
     "metadata": {},
     "output_type": "execute_result"
    }
   ],
   "source": [
    "# indefinite integral of an undefined function in one variable\n",
    "x = sym.symbols(\"x\")\n",
    "f = sym.Function(\"f\")(x)\n",
    "sym.integrate(f)"
   ]
  },
  {
   "cell_type": "code",
   "execution_count": 279,
   "metadata": {},
   "outputs": [
    {
     "data": {
      "image/png": "[encoded data removed]",
      "text/latex": [
       "$$\\int f{\\left (x \\right )}\\, dx$$"
      ],
      "text/plain": [
       "⌠        \n",
       "⎮ f(x) dx\n",
       "⌡        "
      ]
     },
     "execution_count": 279,
     "metadata": {},
     "output_type": "execute_result"
    }
   ],
   "source": [
    "# another way to take an indefinite integral\n",
    "x = sym.symbols(\"x\")\n",
    "f = sym.Function(\"f\")(x)\n",
    "f.integrate()"
   ]
  },
  {
   "cell_type": "code",
   "execution_count": 285,
   "metadata": {},
   "outputs": [
    {
     "data": {
      "image/png": "[encoded data removed]",
      "text/latex": [
       "$$\\int_{a}^{b} f{\\left (x \\right )}\\, dx$$"
      ],
      "text/plain": [
       "b        \n",
       "⌠        \n",
       "⎮ f(x) dx\n",
       "⌡        \n",
       "a        "
      ]
     },
     "execution_count": 285,
     "metadata": {},
     "output_type": "execute_result"
    }
   ],
   "source": [
    "# definite integral of an undefined function in one variable\n",
    "x, a, b = sym.symbols(\"x, a, b\")\n",
    "f = sym.Function(\"f\")(x)\n",
    "f.integrate((x,a,b))"
   ]
  },
  {
   "cell_type": "code",
   "execution_count": 289,
   "metadata": {},
   "outputs": [
    {
     "data": {
      "image/png": "[encoded data removed]",
      "text/latex": [
       "$$\\iint f{\\left (x,y \\right )}\\, dx\\, dy$$"
      ],
      "text/plain": [
       "⌠ ⌠              \n",
       "⎮ ⎮ f(x, y) dx dy\n",
       "⌡ ⌡              "
      ]
     },
     "execution_count": 289,
     "metadata": {},
     "output_type": "execute_result"
    }
   ],
   "source": [
    "# indefinite multiple integral\n",
    "x, y = sym.symbols(\"x, y\")\n",
    "f = sym.Function(\"f\")(x, y)\n",
    "f.integrate(x, y)"
   ]
  },
  {
   "cell_type": "code",
   "execution_count": 290,
   "metadata": {},
   "outputs": [
    {
     "data": {
      "image/png": "[encoded data removed]",
      "text/latex": [
       "$$\\int_{c}^{d}\\int_{a}^{b} f{\\left (x,y \\right )}\\, dx\\, dy$$"
      ],
      "text/plain": [
       "d b              \n",
       "⌠ ⌠              \n",
       "⎮ ⎮ f(x, y) dx dy\n",
       "⌡ ⌡              \n",
       "c a              "
      ]
     },
     "execution_count": 290,
     "metadata": {},
     "output_type": "execute_result"
    }
   ],
   "source": [
    "# definite multiple integral\n",
    "x, y, a, b, c, d = sym.symbols(\"x, y, a, b, c, d\")\n",
    "f = sym.Function(\"f\")(x, y)\n",
    "f.integrate((x, a, b), (y, c, d))"
   ]
  },
  {
   "cell_type": "code",
   "execution_count": 294,
   "metadata": {},
   "outputs": [
    {
     "data": {
      "image/png": "[encoded data removed]",
      "text/latex": [
       "$$\\int_{-\\infty}^{\\infty}\\int_{-\\infty}^{\\infty} f{\\left (x,y \\right )}\\, dx\\, dy$$"
      ],
      "text/plain": [
       "∞  ∞               \n",
       "⌠  ⌠               \n",
       "⎮  ⎮  f(x, y) dx dy\n",
       "⌡  ⌡               \n",
       "-∞ -∞              "
      ]
     },
     "execution_count": 294,
     "metadata": {},
     "output_type": "execute_result"
    }
   ],
   "source": [
    "# infinite bounds of integration\n",
    "oo = sym.oo\n",
    "x, y = sym.symbols(\"x, y\")\n",
    "f = sym.Function(\"f\")(x, y)\n",
    "f.integrate((x, -oo, oo), (y, -oo, oo))"
   ]
  },
  {
   "cell_type": "code",
   "execution_count": 299,
   "metadata": {},
   "outputs": [
    {
     "data": {
      "image/png": "[encoded data removed]",
      "text/latex": [
       "$$\\frac{x^{3}}{3} - \\cos{\\left (x \\right )}$$"
      ],
      "text/plain": [
       " 3         \n",
       "x          \n",
       "── - cos(x)\n",
       "3          "
      ]
     },
     "execution_count": 299,
     "metadata": {},
     "output_type": "execute_result"
    }
   ],
   "source": [
    "# integrate an expression, indefinite integral\n",
    "x = sym.symbols(\"x\")\n",
    "expr = x**2 + sym.sin(x)\n",
    "expr.integrate()"
   ]
  },
  {
   "cell_type": "code",
   "execution_count": 300,
   "metadata": {},
   "outputs": [
    {
     "data": {
      "image/png": "[encoded data removed]",
      "text/latex": [
       "$$- \\cos{\\left (1 \\right )} + \\frac{4}{3}$$"
      ],
      "text/plain": [
       "-cos(1) + 4/3"
      ]
     },
     "execution_count": 300,
     "metadata": {},
     "output_type": "execute_result"
    }
   ],
   "source": [
    "# integrate an expression, definite integral\n",
    "x = sym.symbols(\"x\")\n",
    "expr = x**2 + sym.sin(x)\n",
    "expr.integrate((x,0,1))"
   ]
  },
  {
   "cell_type": "markdown",
   "metadata": {},
   "source": [
    "### series( )"
   ]
  },
  {
   "cell_type": "code",
   "execution_count": 301,
   "metadata": {},
   "outputs": [
    {
     "data": {
      "image/png": "[encoded data removed]",
      "text/latex": [
       "$$f{\\left (0 \\right )} + x \\left. \\frac{d}{d x} f{\\left (x \\right )} \\right|_{\\substack{ x=0 }} + \\frac{x^{2}}{2} \\left. \\frac{d^{2}}{d x^{2}}  f{\\left (x \\right )} \\right|_{\\substack{ x=0 }} + \\frac{x^{3}}{6} \\left. \\frac{d^{3}}{d x^{3}}  f{\\left (x \\right )} \\right|_{\\substack{ x=0 }} + \\frac{x^{4}}{24} \\left. \\frac{d^{4}}{d x^{4}}  f{\\left (x \\right )} \\right|_{\\substack{ x=0 }} + \\frac{x^{5}}{120} \\left. \\frac{d^{5}}{d x^{5}}  f{\\left (x \\right )} \\right|_{\\substack{ x=0 }} + \\mathcal{O}\\left(x^{6}\\right)$$"
      ],
      "text/plain": [
       "                             ⎛  2      ⎞│         ⎛  3      ⎞│         ⎛  4   \n",
       "                           2 ⎜ d       ⎟│       3 ⎜ d       ⎟│       4 ⎜ d    \n",
       "                          x ⋅⎜───(f(x))⎟│      x ⋅⎜───(f(x))⎟│      x ⋅⎜───(f(\n",
       "                             ⎜  2      ⎟│         ⎜  3      ⎟│         ⎜  4   \n",
       "         ⎛d       ⎞│         ⎝dx       ⎠│x=0      ⎝dx       ⎠│x=0      ⎝dx    \n",
       "f(0) + x⋅⎜──(f(x))⎟│    + ────────────────── + ────────────────── + ──────────\n",
       "         ⎝dx      ⎠│x=0           2                    6                    24\n",
       "\n",
       "   ⎞│         ⎛  5      ⎞│           \n",
       "   ⎟│       5 ⎜ d       ⎟│           \n",
       "x))⎟│      x ⋅⎜───(f(x))⎟│           \n",
       "   ⎟│         ⎜  5      ⎟│           \n",
       "   ⎠│x=0      ⎝dx       ⎠│x=0    ⎛ 6⎞\n",
       "──────── + ────────────────── + O⎝x ⎠\n",
       "                  120                "
      ]
     },
     "execution_count": 301,
     "metadata": {},
     "output_type": "execute_result"
    }
   ],
   "source": [
    "# create a series expansion of an undefined function\n",
    "x = sym.symbols(\"x\")\n",
    "f = sym.Function(\"f\")(x)\n",
    "sym.series(f, x)"
   ]
  },
  {
   "cell_type": "code",
   "execution_count": 302,
   "metadata": {},
   "outputs": [
    {
     "data": {
      "image/png": "[encoded data removed]",
      "text/latex": [
       "$$f{\\left (0 \\right )} + x \\left. \\frac{d}{d x} f{\\left (x \\right )} \\right|_{\\substack{ x=0 }} + \\frac{x^{2}}{2} \\left. \\frac{d^{2}}{d x^{2}}  f{\\left (x \\right )} \\right|_{\\substack{ x=0 }} + \\frac{x^{3}}{6} \\left. \\frac{d^{3}}{d x^{3}}  f{\\left (x \\right )} \\right|_{\\substack{ x=0 }} + \\frac{x^{4}}{24} \\left. \\frac{d^{4}}{d x^{4}}  f{\\left (x \\right )} \\right|_{\\substack{ x=0 }} + \\frac{x^{5}}{120} \\left. \\frac{d^{5}}{d x^{5}}  f{\\left (x \\right )} \\right|_{\\substack{ x=0 }} + \\mathcal{O}\\left(x^{6}\\right)$$"
      ],
      "text/plain": [
       "                             ⎛  2      ⎞│         ⎛  3      ⎞│         ⎛  4   \n",
       "                           2 ⎜ d       ⎟│       3 ⎜ d       ⎟│       4 ⎜ d    \n",
       "                          x ⋅⎜───(f(x))⎟│      x ⋅⎜───(f(x))⎟│      x ⋅⎜───(f(\n",
       "                             ⎜  2      ⎟│         ⎜  3      ⎟│         ⎜  4   \n",
       "         ⎛d       ⎞│         ⎝dx       ⎠│x=0      ⎝dx       ⎠│x=0      ⎝dx    \n",
       "f(0) + x⋅⎜──(f(x))⎟│    + ────────────────── + ────────────────── + ──────────\n",
       "         ⎝dx      ⎠│x=0           2                    6                    24\n",
       "\n",
       "   ⎞│         ⎛  5      ⎞│           \n",
       "   ⎟│       5 ⎜ d       ⎟│           \n",
       "x))⎟│      x ⋅⎜───(f(x))⎟│           \n",
       "   ⎟│         ⎜  5      ⎟│           \n",
       "   ⎠│x=0      ⎝dx       ⎠│x=0    ⎛ 6⎞\n",
       "──────── + ────────────────── + O⎝x ⎠\n",
       "                  120                "
      ]
     },
     "execution_count": 302,
     "metadata": {},
     "output_type": "execute_result"
    }
   ],
   "source": [
    "# another way to create a series expansion of an undefined function\n",
    "x = sym.symbols(\"x\")\n",
    "f = sym.Function(\"f\")(x)\n",
    "f.series(x)"
   ]
  },
  {
   "cell_type": "code",
   "execution_count": 308,
   "metadata": {},
   "outputs": [
    {
     "data": {
      "image/png": "[encoded data removed]",
      "text/latex": [
       "$$f{\\left (0 \\right )} + x \\left. \\frac{d}{d x} f{\\left (x \\right )} \\right|_{\\substack{ x=0 }} + \\mathcal{O}\\left(x^{2}\\right)$$"
      ],
      "text/plain": [
       "         ⎛d       ⎞│       ⎛ 2⎞\n",
       "f(0) + x⋅⎜──(f(x))⎟│    + O⎝x ⎠\n",
       "         ⎝dx      ⎠│x=0        "
      ]
     },
     "execution_count": 308,
     "metadata": {},
     "output_type": "execute_result"
    }
   ],
   "source": [
    "# series expansion to order 2\n",
    "x = sym.symbols(\"x\")\n",
    "f = sym.Function(\"f\")(x)\n",
    "f.series(x, n=2)"
   ]
  },
  {
   "cell_type": "code",
   "execution_count": 313,
   "metadata": {},
   "outputs": [
    {
     "data": {
      "image/png": "[encoded data removed]",
      "text/latex": [
       "$$f{\\left (x_{0} \\right )} + \\left(x - x_{0}\\right) \\left. \\frac{d}{d \\xi_{1}} f{\\left (\\xi_{1} \\right )} \\right|_{\\substack{ \\xi_{1}=x_{0} }} + \\frac{1}{2} \\left(x - x_{0}\\right)^{2} \\left. \\frac{d^{2}}{d \\xi_{1}^{2}}  f{\\left (\\xi_{1} \\right )} \\right|_{\\substack{ \\xi_{1}=x_{0} }} + \\mathcal{O}\\left(\\left(x - x_{0}\\right)^{3}; x\\rightarrow x_{0}\\right)$$"
      ],
      "text/plain": [
       "                                                ⎛  2        ⎞│                \n",
       "                                              2 ⎜ d         ⎟│                \n",
       "                                      (x - x₀) ⋅⎜────(f(ξ₁))⎟│                \n",
       "                                                ⎜   2       ⎟│                \n",
       "                 ⎛ d        ⎞│                  ⎝dξ₁        ⎠│ξ₁=x₀    ⎛      \n",
       "f(x₀) + (x - x₀)⋅⎜───(f(ξ₁))⎟│      + ───────────────────────────── + O⎝(x - x\n",
       "                 ⎝dξ₁       ⎠│ξ₁=x₀                 2                         \n",
       "\n",
       "            \n",
       "            \n",
       "            \n",
       "            \n",
       "  3        ⎞\n",
       "₀) ; x → x₀⎠\n",
       "            "
      ]
     },
     "execution_count": 313,
     "metadata": {},
     "output_type": "execute_result"
    }
   ],
   "source": [
    "# series expansion around point p\n",
    "x, x0 = sym.symbols(\"x, x0\")\n",
    "f = sym.Function(\"f\")(x)\n",
    "f.series(x, x0, n=3)"
   ]
  },
  {
   "cell_type": "code",
   "execution_count": 316,
   "metadata": {},
   "outputs": [
    {
     "data": {
      "image/png": "[encoded data removed]",
      "text/latex": [
       "$$\\frac{1}{2} \\left(x - x_{0}\\right)^{2} \\left. \\frac{d^{2}}{d \\xi_{1}^{2}}  f{\\left (\\xi_{1} \\right )} \\right|_{\\substack{ \\xi_{1}=x_{0} }} + \\left(x - x_{0}\\right) \\left. \\frac{d}{d \\xi_{1}} f{\\left (\\xi_{1} \\right )} \\right|_{\\substack{ \\xi_{1}=x_{0} }} + f{\\left (x_{0} \\right )}$$"
      ],
      "text/plain": [
       "          ⎛  2        ⎞│                                           \n",
       "        2 ⎜ d         ⎟│                                           \n",
       "(x - x₀) ⋅⎜────(f(ξ₁))⎟│                                           \n",
       "          ⎜   2       ⎟│                                           \n",
       "          ⎝dξ₁        ⎠│ξ₁=x₀            ⎛ d        ⎞│             \n",
       "───────────────────────────── + (x - x₀)⋅⎜───(f(ξ₁))⎟│      + f(x₀)\n",
       "              2                          ⎝dξ₁       ⎠│ξ₁=x₀        "
      ]
     },
     "execution_count": 316,
     "metadata": {},
     "output_type": "execute_result"
    }
   ],
   "source": [
    "# series with order object removed\n",
    "x, x0 = sym.symbols(\"x, x0\")\n",
    "f = sym.Function(\"f\")(x)\n",
    "f.series(x, x0, n=3).removeO()"
   ]
  },
  {
   "cell_type": "code",
   "execution_count": 319,
   "metadata": {},
   "outputs": [
    {
     "data": {
      "image/png": "[encoded data removed]",
      "text/latex": [
       "$$x - \\frac{x^{3}}{6} + \\frac{x^{5}}{120} - \\frac{x^{7}}{5040} + \\mathcal{O}\\left(x^{9}\\right)$$"
      ],
      "text/plain": [
       "     3     5     7         \n",
       "    x     x     x      ⎛ 9⎞\n",
       "x - ── + ─── - ──── + O⎝x ⎠\n",
       "    6    120   5040        "
      ]
     },
     "execution_count": 319,
     "metadata": {},
     "output_type": "execute_result"
    }
   ],
   "source": [
    "# series expansion of sin(x) around x=0\n",
    "x = sym.symbols(\"x\")\n",
    "f = sym.sin(x)\n",
    "f.series(x, 0, n=9)"
   ]
  },
  {
   "cell_type": "code",
   "execution_count": 320,
   "metadata": {},
   "outputs": [
    {
     "data": {
      "image/png": "[encoded data removed]",
      "text/latex": [
       "$$1 - \\frac{x^{2}}{2} + \\frac{x^{4}}{24} - \\frac{x^{6}}{720} + \\frac{x^{8}}{40320} + \\mathcal{O}\\left(x^{9}\\right)$$"
      ],
      "text/plain": [
       "     2    4     6      8         \n",
       "    x    x     x      x      ⎛ 9⎞\n",
       "1 - ── + ── - ─── + ───── + O⎝x ⎠\n",
       "    2    24   720   40320        "
      ]
     },
     "execution_count": 320,
     "metadata": {},
     "output_type": "execute_result"
    }
   ],
   "source": [
    "# series expansion of cos(x) around x=0\n",
    "x = sym.symbols(\"x\")\n",
    "f = sym.cos(x)\n",
    "f.series(x, 0, n=9)"
   ]
  },
  {
   "cell_type": "code",
   "execution_count": 321,
   "metadata": {},
   "outputs": [
    {
     "data": {
      "image/png": "[encoded data removed]",
      "text/latex": [
       "$$1 + x + \\frac{x^{2}}{2} + \\frac{x^{3}}{6} + \\frac{x^{4}}{24} + \\frac{x^{5}}{120} + \\frac{x^{6}}{720} + \\frac{x^{7}}{5040} + \\frac{x^{8}}{40320} + \\mathcal{O}\\left(x^{9}\\right)$$"
      ],
      "text/plain": [
       "         2    3    4     5     6     7       8         \n",
       "        x    x    x     x     x     x       x      ⎛ 9⎞\n",
       "1 + x + ── + ── + ── + ─── + ─── + ──── + ───── + O⎝x ⎠\n",
       "        2    6    24   120   720   5040   40320        "
      ]
     },
     "execution_count": 321,
     "metadata": {},
     "output_type": "execute_result"
    }
   ],
   "source": [
    "# series expansion of exp(x) around x=0\n",
    "x = sym.symbols(\"x\")\n",
    "f = sym.exp(x)\n",
    "f.series(x, 0, n=9)"
   ]
  },
  {
   "cell_type": "code",
   "execution_count": 325,
   "metadata": {},
   "outputs": [
    {
     "data": {
      "image/png": "[encoded data removed]",
      "text/latex": [
       "$$1 - 2 x + 3 x^{2} - 4 x^{3} + 5 x^{4} - 6 x^{5} + 7 x^{6} - 8 x^{7} + 9 x^{8} + \\mathcal{O}\\left(x^{9}\\right)$$"
      ],
      "text/plain": [
       "             2      3      4      5      6      7      8    ⎛ 9⎞\n",
       "1 - 2⋅x + 3⋅x  - 4⋅x  + 5⋅x  - 6⋅x  + 7⋅x  - 8⋅x  + 9⋅x  + O⎝x ⎠"
      ]
     },
     "execution_count": 325,
     "metadata": {},
     "output_type": "execute_result"
    }
   ],
   "source": [
    "# binomial expansion\n",
    "x = sym.symbols(\"x\")\n",
    "f = 1/(1 + x)**2\n",
    "f.series(x, 0, n=9)"
   ]
  },
  {
   "cell_type": "markdown",
   "metadata": {},
   "source": [
    "### limit( )"
   ]
  },
  {
   "cell_type": "code",
   "execution_count": 338,
   "metadata": {},
   "outputs": [
    {
     "data": {
      "image/png": "[encoded data removed]",
      "text/latex": [
       "$$1$$"
      ],
      "text/plain": [
       "1"
      ]
     },
     "execution_count": 338,
     "metadata": {},
     "output_type": "execute_result"
    }
   ],
   "source": [
    "# limit of a function\n",
    "x = sym.symbols(\"x\")\n",
    "f = sym.sin(x)/x\n",
    "f.limit(x, 0)"
   ]
  },
  {
   "cell_type": "code",
   "execution_count": 339,
   "metadata": {},
   "outputs": [
    {
     "data": {
      "image/png": "[encoded data removed]",
      "text/latex": [
       "$$0$$"
      ],
      "text/plain": [
       "0"
      ]
     },
     "execution_count": 339,
     "metadata": {},
     "output_type": "execute_result"
    }
   ],
   "source": [
    "# asymptotic limit of a function\n",
    "oo = sym.oo\n",
    "x = sym.symbols(\"x\")\n",
    "f = sym.sin(x)/x\n",
    "f.limit(x, oo)"
   ]
  },
  {
   "cell_type": "markdown",
   "metadata": {},
   "source": [
    "### Derivative( )"
   ]
  },
  {
   "cell_type": "code",
   "execution_count": 263,
   "metadata": {},
   "outputs": [
    {
     "data": {
      "image/png": "[encoded data removed]",
      "text/latex": [
       "$$\\left ( \\cos{\\left (x \\right )}, \\quad \\frac{d}{d x} \\cos{\\left (x \\right )}, \\quad \\frac{d^{2}}{d x^{2}}  \\cos{\\left (x \\right )}, \\quad \\frac{d^{3}}{d x^{3}}  \\cos{\\left (x \\right )}\\right )$$"
      ],
      "text/plain": [
       "⎛                      2            3        ⎞\n",
       "⎜        d            d            d         ⎟\n",
       "⎜cos(x), ──(cos(x)), ───(cos(x)), ───(cos(x))⎟\n",
       "⎜        dx            2            3        ⎟\n",
       "⎝                    dx           dx         ⎠"
      ]
     },
     "execution_count": 263,
     "metadata": {},
     "output_type": "execute_result"
    }
   ],
   "source": [
    "# a formal derivative, delaying its evaluation\n",
    "x = sym.symbols(\"x\")\n",
    "f = sym.cos(x)\n",
    "df = sym.Derivative(f, x)\n",
    "ddf = sym.Derivative(f, x, 2)\n",
    "dddf = sym.Derivative(f, x, 3)\n",
    "f, df, ddf, dddf"
   ]
  },
  {
   "cell_type": "markdown",
   "metadata": {},
   "source": [
    "### Integral( )"
   ]
  },
  {
   "cell_type": "code",
   "execution_count": 341,
   "metadata": {},
   "outputs": [
    {
     "data": {
      "image/png": "[encoded data removed]",
      "text/latex": [
       "$$\\left ( \\sin{\\left (x \\right )}, \\quad \\int \\cos{\\left (x \\right )}\\, dx\\right )$$"
      ],
      "text/plain": [
       "⎛        ⌠          ⎞\n",
       "⎜sin(x), ⎮ cos(x) dx⎟\n",
       "⎝        ⌡          ⎠"
      ]
     },
     "execution_count": 341,
     "metadata": {},
     "output_type": "execute_result"
    }
   ],
   "source": [
    "# a formal integral, delaying its evaluation\n",
    "x = sym.symbols(\"x\")\n",
    "f = sym.cos(x)\n",
    "myint = sym.Integral(f, x)\n",
    "f.integrate(), myint"
   ]
  },
  {
   "cell_type": "markdown",
   "metadata": {},
   "source": [
    "### Sum( )"
   ]
  },
  {
   "cell_type": "code",
   "execution_count": 347,
   "metadata": {},
   "outputs": [
    {
     "data": {
      "image/png": "[encoded data removed]",
      "text/latex": [
       "$$\\sum_{n=1}^{\\infty} \\frac{1}{n^{2}}$$"
      ],
      "text/plain": [
       "  ∞     \n",
       " ____   \n",
       " ╲      \n",
       "  ╲   1 \n",
       "   ╲  ──\n",
       "   ╱   2\n",
       "  ╱   n \n",
       " ╱      \n",
       " ‾‾‾‾   \n",
       "n = 1   "
      ]
     },
     "execution_count": 347,
     "metadata": {},
     "output_type": "execute_result"
    }
   ],
   "source": [
    "# a formal sum, delaying its evaluation\n",
    "oo = sym.oo\n",
    "n = sym.symbols(\"n\", integer=True)\n",
    "mysum = sym.Sum(1/n**2, (n, 1, oo))\n",
    "mysum"
   ]
  },
  {
   "cell_type": "markdown",
   "metadata": {},
   "source": [
    "### Product( )"
   ]
  },
  {
   "cell_type": "code",
   "execution_count": 348,
   "metadata": {},
   "outputs": [
    {
     "data": {
      "image/png": "[encoded data removed]",
      "text/latex": [
       "$$\\prod_{n=1}^{7} n$$"
      ],
      "text/plain": [
       "  7    \n",
       "┬───┬  \n",
       "│   │ n\n",
       "│   │  \n",
       "n = 1  "
      ]
     },
     "execution_count": 348,
     "metadata": {},
     "output_type": "execute_result"
    }
   ],
   "source": [
    "# a formal product, delaying its evaluation\n",
    "n = sym.symbols(\"n\", integer=True)\n",
    "myprod = sym.Product(n, (n, 1, 7))\n",
    "myprod"
   ]
  },
  {
   "cell_type": "markdown",
   "metadata": {},
   "source": [
    "### doit( )"
   ]
  },
  {
   "cell_type": "code",
   "execution_count": 343,
   "metadata": {},
   "outputs": [
    {
     "data": {
      "image/png": "[encoded data removed]",
      "text/latex": [
       "$$\\left ( \\frac{d}{d x} \\cos{\\left (x \\right )}, \\quad - \\sin{\\left (x \\right )}\\right )$$"
      ],
      "text/plain": [
       "⎛d                  ⎞\n",
       "⎜──(cos(x)), -sin(x)⎟\n",
       "⎝dx                 ⎠"
      ]
     },
     "execution_count": 343,
     "metadata": {},
     "output_type": "execute_result"
    }
   ],
   "source": [
    "# try to explicitly evaluate a formal derivative\n",
    "x = sym.symbols(\"x\")\n",
    "f = sym.cos(x)\n",
    "df = sym.Derivative(f, x)\n",
    "df, df.doit()"
   ]
  },
  {
   "cell_type": "code",
   "execution_count": 342,
   "metadata": {},
   "outputs": [
    {
     "data": {
      "image/png": "[encoded data removed]",
      "text/latex": [
       "$$\\left ( \\int \\cos{\\left (x \\right )}\\, dx, \\quad \\sin{\\left (x \\right )}\\right )$$"
      ],
      "text/plain": [
       "⎛⌠                  ⎞\n",
       "⎜⎮ cos(x) dx, sin(x)⎟\n",
       "⎝⌡                  ⎠"
      ]
     },
     "execution_count": 342,
     "metadata": {},
     "output_type": "execute_result"
    }
   ],
   "source": [
    "# try to explicitly evaluate a formal integral\n",
    "x = sym.symbols(\"x\")\n",
    "f = sym.cos(x)\n",
    "myint = sym.Integral(f, x)\n",
    "myint, myint.doit()"
   ]
  },
  {
   "cell_type": "code",
   "execution_count": 349,
   "metadata": {},
   "outputs": [
    {
     "data": {
      "image/png": "[encoded data removed]",
      "text/latex": [
       "$$\\left ( \\sum_{n=1}^{\\infty} \\frac{1}{n^{2}}, \\quad \\frac{\\pi^{2}}{6}\\right )$$"
      ],
      "text/plain": [
       "⎛  ∞         ⎞\n",
       "⎜ ____       ⎟\n",
       "⎜ ╲          ⎟\n",
       "⎜  ╲   1    2⎟\n",
       "⎜   ╲  ──  π ⎟\n",
       "⎜   ╱   2, ──⎟\n",
       "⎜  ╱   n   6 ⎟\n",
       "⎜ ╱          ⎟\n",
       "⎜ ‾‾‾‾       ⎟\n",
       "⎝n = 1       ⎠"
      ]
     },
     "execution_count": 349,
     "metadata": {},
     "output_type": "execute_result"
    }
   ],
   "source": [
    "# try to explicitly evaluate a formal sum\n",
    "oo = sym.oo\n",
    "n = sym.symbols(\"n\", integer=True)\n",
    "mysum = sym.Sum(1/n**2, (n, 1, oo))\n",
    "mysum, mysum.doit()"
   ]
  },
  {
   "cell_type": "code",
   "execution_count": 350,
   "metadata": {},
   "outputs": [
    {
     "data": {
      "image/png": "[encoded data removed]",
      "text/latex": [
       "$$\\left ( \\prod_{n=1}^{7} n, \\quad 5040\\right )$$"
      ],
      "text/plain": [
       "⎛  7          ⎞\n",
       "⎜┬───┬        ⎟\n",
       "⎜│   │ n, 5040⎟\n",
       "⎜│   │        ⎟\n",
       "⎝n = 1        ⎠"
      ]
     },
     "execution_count": 350,
     "metadata": {},
     "output_type": "execute_result"
    }
   ],
   "source": [
    "# try to explicitly evaluate a formal sum\n",
    "n = sym.symbols(\"n\", integer=True)\n",
    "myprod = sym.Product(n, (n, 1, 7))\n",
    "myprod, myprod.doit()"
   ]
  },
  {
   "cell_type": "markdown",
   "metadata": {},
   "source": [
    "## 9. Solving equations <a id='section9'></a>"
   ]
  },
  {
   "cell_type": "markdown",
   "metadata": {},
   "source": [
    "### solve( )"
   ]
  },
  {
   "cell_type": "code",
   "execution_count": 358,
   "metadata": {},
   "outputs": [
    {
     "data": {
      "image/png": "[encoded data removed]",
      "text/latex": [
       "$$\\left [ -3, \\quad 1\\right ]$$"
      ],
      "text/plain": [
       "[-3, 1]"
      ]
     },
     "execution_count": 358,
     "metadata": {},
     "output_type": "execute_result"
    }
   ],
   "source": [
    "# try to solve an equation in one unknown variable\n",
    "x = sym.symbols(\"x\")\n",
    "expr = x**2 + 2*x - 3\n",
    "sym.solve(expr)"
   ]
  },
  {
   "cell_type": "code",
   "execution_count": 359,
   "metadata": {},
   "outputs": [
    {
     "data": {
      "image/png": "[encoded data removed]",
      "text/latex": [
       "$$\\left [ \\frac{1}{2 a} \\left(- b + \\sqrt{- 4 a c + b^{2}}\\right), \\quad - \\frac{1}{2 a} \\left(b + \\sqrt{- 4 a c + b^{2}}\\right)\\right ]$$"
      ],
      "text/plain": [
       "⎡        _____________   ⎛       _____________⎞ ⎤\n",
       "⎢       ╱           2    ⎜      ╱           2 ⎟ ⎥\n",
       "⎢-b + ╲╱  -4⋅a⋅c + b    -⎝b + ╲╱  -4⋅a⋅c + b  ⎠ ⎥\n",
       "⎢─────────────────────, ────────────────────────⎥\n",
       "⎣         2⋅a                     2⋅a           ⎦"
      ]
     },
     "execution_count": 359,
     "metadata": {},
     "output_type": "execute_result"
    }
   ],
   "source": [
    "# try to solve an equation containing more than one symbol\n",
    "x, a, b, c = sym.symbols(\"x, a, b, c\")\n",
    "expr = a*x**2 + b*x + c\n",
    "sym.solve(expr, x)"
   ]
  },
  {
   "cell_type": "code",
   "execution_count": 360,
   "metadata": {},
   "outputs": [
    {
     "data": {
      "image/png": "[encoded data removed]",
      "text/latex": [
       "$$\\left [ \\frac{3}{2} - \\frac{\\sqrt{7} i}{2}, \\quad \\frac{3}{2} + \\frac{\\sqrt{7} i}{2}\\right ]$$"
      ],
      "text/plain": [
       "⎡3   √7⋅ⅈ  3   √7⋅ⅈ⎤\n",
       "⎢─ - ────, ─ + ────⎥\n",
       "⎣2    2    2    2  ⎦"
      ]
     },
     "execution_count": 360,
     "metadata": {},
     "output_type": "execute_result"
    }
   ],
   "source": [
    "# polynomial with no complex solutions\n",
    "x, a, b, c = sym.symbols(\"x, a, b, c\")\n",
    "expr = a*x**2 + b*x + c\n",
    "vals = {a:1, b:-3, c:4}\n",
    "sym.solve(expr.subs(vals), x)"
   ]
  },
  {
   "cell_type": "code",
   "execution_count": 368,
   "metadata": {},
   "outputs": [
    {
     "data": {
      "image/png": "[encoded data removed]",
      "text/latex": [
       "$$\\left [ \\left ( -2, \\quad 0\\right ), \\quad \\left ( 2, \\quad 0\\right )\\right ]$$"
      ],
      "text/plain": [
       "[(-2, 0), (2, 0)]"
      ]
     },
     "execution_count": 368,
     "metadata": {},
     "output_type": "execute_result"
    }
   ],
   "source": [
    "# solve a system of equations for more than one unknown\n",
    "x, y = sym.symbols(\"x, y\")\n",
    "expr1 = x**2 - y**2 - 4 \n",
    "expr2 = x**2 + y**2 - 4\n",
    "solns = sym.solve([expr1, expr2],[x,y])\n",
    "solns"
   ]
  },
  {
   "cell_type": "code",
   "execution_count": 369,
   "metadata": {},
   "outputs": [
    {
     "data": {
      "image/png": "[encoded data removed]",
      "text/latex": [
       "$$\\left [ \\left \\{ x : -2, \\quad y : 0\\right \\}, \\quad \\left \\{ x : 2, \\quad y : 0\\right \\}\\right ]$$"
      ],
      "text/plain": [
       "[{x: -2, y: 0}, {x: 2, y: 0}]"
      ]
     },
     "execution_count": 369,
     "metadata": {},
     "output_type": "execute_result"
    }
   ],
   "source": [
    "# solve, returning the solutions in dictionary form\n",
    "x, y = sym.symbols(\"x, y\")\n",
    "expr1 = x**2 - y**2 - 4 \n",
    "expr2 = x**2 + y**2 - 4\n",
    "solns = sym.solve([expr1, expr2],[x,y], dict=True)\n",
    "solns"
   ]
  },
  {
   "cell_type": "code",
   "execution_count": 377,
   "metadata": {},
   "outputs": [
    {
     "data": {
      "text/plain": [
       "[True, True]"
      ]
     },
     "execution_count": 377,
     "metadata": {},
     "output_type": "execute_result"
    }
   ],
   "source": [
    "# check solutions using subs()\n",
    "x, y = sym.symbols(\"x, y\")\n",
    "expr1 = x**2 - y**2 - 4 \n",
    "expr2 = x**2 + y**2 - 4\n",
    "solns = sym.solve([expr1, expr2],[x,y], dict=True)\n",
    "[expr1.subs(soln) == 0 and expr2.subs(soln) == 0 for soln in solns]"
   ]
  },
  {
   "cell_type": "markdown",
   "metadata": {},
   "source": [
    "## 10. Linear algebra <a id='section10'></a>"
   ]
  },
  {
   "cell_type": "markdown",
   "metadata": {},
   "source": [
    "### Matrix( )"
   ]
  },
  {
   "cell_type": "code",
   "execution_count": 379,
   "metadata": {},
   "outputs": [
    {
     "data": {
      "image/png": "[encoded data removed]",
      "text/latex": [
       "$$\\left[\\begin{matrix}1\\\\2\\end{matrix}\\right]$$"
      ],
      "text/plain": [
       "⎡1⎤\n",
       "⎢ ⎥\n",
       "⎣2⎦"
      ]
     },
     "execution_count": 379,
     "metadata": {},
     "output_type": "execute_result"
    }
   ],
   "source": [
    "# a simple column matrix\n",
    "sym.Matrix([1,2])"
   ]
  },
  {
   "cell_type": "code",
   "execution_count": 380,
   "metadata": {},
   "outputs": [
    {
     "data": {
      "image/png": "[encoded data removed]",
      "text/latex": [
       "$$\\left[\\begin{matrix}1 & 2\\end{matrix}\\right]$$"
      ],
      "text/plain": [
       "[1  2]"
      ]
     },
     "execution_count": 380,
     "metadata": {},
     "output_type": "execute_result"
    }
   ],
   "source": [
    "# a simple row matrix\n",
    "sym.Matrix([[1,2]])"
   ]
  },
  {
   "cell_type": "code",
   "execution_count": 381,
   "metadata": {},
   "outputs": [
    {
     "data": {
      "image/png": "[encoded data removed]",
      "text/latex": [
       "$$\\left[\\begin{matrix}1 & 2\\\\3 & 4\\end{matrix}\\right]$$"
      ],
      "text/plain": [
       "⎡1  2⎤\n",
       "⎢    ⎥\n",
       "⎣3  4⎦"
      ]
     },
     "execution_count": 381,
     "metadata": {},
     "output_type": "execute_result"
    }
   ],
   "source": [
    "# a simple 2 x 2 matrix\n",
    "sym.Matrix([[1,2],[3,4]])"
   ]
  },
  {
   "cell_type": "code",
   "execution_count": 383,
   "metadata": {},
   "outputs": [
    {
     "data": {
      "image/png": "[encoded data removed]",
      "text/latex": [
       "$$\\left[\\begin{matrix}0 & 1 & 2 & 3\\\\10 & 11 & 12 & 13\\\\20 & 21 & 22 & 23\\end{matrix}\\right]$$"
      ],
      "text/plain": [
       "⎡0   1   2   3 ⎤\n",
       "⎢              ⎥\n",
       "⎢10  11  12  13⎥\n",
       "⎢              ⎥\n",
       "⎣20  21  22  23⎦"
      ]
     },
     "execution_count": 383,
     "metadata": {},
     "output_type": "execute_result"
    }
   ],
   "source": [
    "# create a matrix using lambda function of rows and columns\n",
    "sym.Matrix(3, 4, lambda m, n: 10*m + n)"
   ]
  },
  {
   "cell_type": "code",
   "execution_count": 385,
   "metadata": {},
   "outputs": [
    {
     "data": {
      "image/png": "[encoded data removed]",
      "text/latex": [
       "$$\\left[\\begin{matrix}a & b\\\\c & d\\end{matrix}\\right]$$"
      ],
      "text/plain": [
       "⎡a  b⎤\n",
       "⎢    ⎥\n",
       "⎣c  d⎦"
      ]
     },
     "execution_count": 385,
     "metadata": {},
     "output_type": "execute_result"
    }
   ],
   "source": [
    "# a symbolic matrix\n",
    "a, b, c, d = sym.symbols(\"a, b, c, d\")\n",
    "M = sym.Matrix([[a,b],[c,d]])\n",
    "M"
   ]
  },
  {
   "cell_type": "markdown",
   "metadata": {},
   "source": [
    "### Matrix operations"
   ]
  },
  {
   "cell_type": "code",
   "execution_count": 389,
   "metadata": {},
   "outputs": [
    {
     "data": {
      "image/png": "[encoded data removed]",
      "text/latex": [
       "$$\\left ( \\left[\\begin{matrix}1 & 3\\\\4 & 5\\end{matrix}\\right], \\quad \\left[\\begin{matrix}1 & 1\\\\2 & 3\\end{matrix}\\right], \\quad \\left[\\begin{matrix}2 & 3\\\\4 & 7\\end{matrix}\\right], \\quad \\left[\\begin{matrix}3 & 4\\\\4 & 6\\end{matrix}\\right]\\right )$$"
      ],
      "text/plain": [
       "⎛⎡1  3⎤  ⎡1  1⎤  ⎡2  3⎤  ⎡3  4⎤⎞\n",
       "⎜⎢    ⎥, ⎢    ⎥, ⎢    ⎥, ⎢    ⎥⎟\n",
       "⎝⎣4  5⎦  ⎣2  3⎦  ⎣4  7⎦  ⎣4  6⎦⎠"
      ]
     },
     "execution_count": 389,
     "metadata": {},
     "output_type": "execute_result"
    }
   ],
   "source": [
    "# matrix algebra\n",
    "A = sym.Matrix([[1,2],[3,4]])\n",
    "B = sym.Matrix([[0,1],[1,1]])\n",
    "A+B, A-B, A*B, B*A"
   ]
  },
  {
   "cell_type": "code",
   "execution_count": 390,
   "metadata": {},
   "outputs": [
    {
     "data": {
      "image/png": "[encoded data removed]",
      "text/latex": [
       "$$-2$$"
      ],
      "text/plain": [
       "-2"
      ]
     },
     "execution_count": 390,
     "metadata": {},
     "output_type": "execute_result"
    }
   ],
   "source": [
    "# determinant\n",
    "A = sym.Matrix([[1,2],[3,4]])\n",
    "A.det()"
   ]
  },
  {
   "cell_type": "code",
   "execution_count": 391,
   "metadata": {},
   "outputs": [
    {
     "data": {
      "image/png": "[encoded data removed]",
      "text/latex": [
       "$$5$$"
      ],
      "text/plain": [
       "5"
      ]
     },
     "execution_count": 391,
     "metadata": {},
     "output_type": "execute_result"
    }
   ],
   "source": [
    "# trace\n",
    "A = sym.Matrix([[1,2],[3,4]])\n",
    "A.trace()"
   ]
  },
  {
   "cell_type": "code",
   "execution_count": 392,
   "metadata": {},
   "outputs": [
    {
     "data": {
      "image/png": "[encoded data removed]",
      "text/latex": [
       "$$\\left ( \\left[\\begin{matrix}1 & 3\\\\2 & 4\\end{matrix}\\right], \\quad \\left[\\begin{matrix}1 & 3\\\\2 & 4\\end{matrix}\\right]\\right )$$"
      ],
      "text/plain": [
       "⎛⎡1  3⎤  ⎡1  3⎤⎞\n",
       "⎜⎢    ⎥, ⎢    ⎥⎟\n",
       "⎝⎣2  4⎦  ⎣2  4⎦⎠"
      ]
     },
     "execution_count": 392,
     "metadata": {},
     "output_type": "execute_result"
    }
   ],
   "source": [
    "# transpose\n",
    "A = sym.Matrix([[1,2],[3,4]])\n",
    "A.transpose(), A.T"
   ]
  },
  {
   "cell_type": "code",
   "execution_count": 394,
   "metadata": {},
   "outputs": [
    {
     "data": {
      "image/png": "[encoded data removed]",
      "text/latex": [
       "$$\\left ( \\left[\\begin{matrix}1 & 3\\\\2 & 4\\end{matrix}\\right], \\quad \\left[\\begin{matrix}1 & 3\\\\2 & 4\\end{matrix}\\right]\\right )$$"
      ],
      "text/plain": [
       "⎛⎡1  3⎤  ⎡1  3⎤⎞\n",
       "⎜⎢    ⎥, ⎢    ⎥⎟\n",
       "⎝⎣2  4⎦  ⎣2  4⎦⎠"
      ]
     },
     "execution_count": 394,
     "metadata": {},
     "output_type": "execute_result"
    }
   ],
   "source": [
    "# adjoint\n",
    "A = sym.Matrix([[1,2],[3,4]])\n",
    "A.adjoint(), A.H"
   ]
  },
  {
   "cell_type": "code",
   "execution_count": 395,
   "metadata": {},
   "outputs": [
    {
     "data": {
      "image/png": "[encoded data removed]",
      "text/latex": [
       "$$\\left[\\begin{matrix}-2 & 1\\\\\\frac{3}{2} & - \\frac{1}{2}\\end{matrix}\\right]$$"
      ],
      "text/plain": [
       "⎡-2    1  ⎤\n",
       "⎢         ⎥\n",
       "⎣3/2  -1/2⎦"
      ]
     },
     "execution_count": 395,
     "metadata": {},
     "output_type": "execute_result"
    }
   ],
   "source": [
    "# inverse\n",
    "A = sym.Matrix([[1,2],[3,4]])\n",
    "A.inv()"
   ]
  },
  {
   "cell_type": "code",
   "execution_count": 403,
   "metadata": {},
   "outputs": [
    {
     "data": {
      "image/png": "[encoded data removed]",
      "text/latex": [
       "$$\\sqrt{30}$$"
      ],
      "text/plain": [
       "√30"
      ]
     },
     "execution_count": 403,
     "metadata": {},
     "output_type": "execute_result"
    }
   ],
   "source": [
    "# norm\n",
    "A = sym.Matrix([[1,2],[3,4]])\n",
    "A.norm()"
   ]
  },
  {
   "cell_type": "code",
   "execution_count": 405,
   "metadata": {},
   "outputs": [
    {
     "data": {
      "image/png": "[encoded data removed]",
      "text/latex": [
       "$$2$$"
      ],
      "text/plain": [
       "2"
      ]
     },
     "execution_count": 405,
     "metadata": {},
     "output_type": "execute_result"
    }
   ],
   "source": [
    "# rank\n",
    "A = sym.Matrix([[1,2],[3,4]])\n",
    "A.rank()"
   ]
  },
  {
   "cell_type": "code",
   "execution_count": 396,
   "metadata": {},
   "outputs": [
    {
     "data": {
      "image/png": "[encoded data removed]",
      "text/latex": [
       "$$\\left ( \\left[\\begin{matrix}1 & 0\\\\3 & 1\\end{matrix}\\right], \\quad \\left[\\begin{matrix}1 & 2\\\\0 & -2\\end{matrix}\\right], \\quad \\left [ \\right ]\\right )$$"
      ],
      "text/plain": [
       "⎛⎡1  0⎤  ⎡1  2 ⎤    ⎞\n",
       "⎜⎢    ⎥, ⎢     ⎥, []⎟\n",
       "⎝⎣3  1⎦  ⎣0  -2⎦    ⎠"
      ]
     },
     "execution_count": 396,
     "metadata": {},
     "output_type": "execute_result"
    }
   ],
   "source": [
    "# LU decomposition\n",
    "A = sym.Matrix([[1,2],[3,4]])\n",
    "A.LUdecomposition()"
   ]
  },
  {
   "cell_type": "code",
   "execution_count": 406,
   "metadata": {},
   "outputs": [
    {
     "data": {
      "image/png": "[encoded data removed]",
      "text/latex": [
       "$$\\left ( \\left[\\begin{matrix}\\frac{\\sqrt{10}}{10} & \\frac{3 \\sqrt{10}}{10}\\\\\\frac{3 \\sqrt{10}}{10} & - \\frac{\\sqrt{10}}{10}\\end{matrix}\\right], \\quad \\left[\\begin{matrix}\\sqrt{10} & \\frac{7 \\sqrt{10}}{5}\\\\0 & \\frac{\\sqrt{10}}{5}\\end{matrix}\\right]\\right )$$"
      ],
      "text/plain": [
       "⎛⎡ √10   3⋅√10⎤  ⎡     7⋅√10⎤⎞\n",
       "⎜⎢ ───   ─────⎥  ⎢√10  ─────⎥⎟\n",
       "⎜⎢  10     10 ⎥  ⎢       5  ⎥⎟\n",
       "⎜⎢            ⎥, ⎢          ⎥⎟\n",
       "⎜⎢3⋅√10  -√10 ⎥  ⎢      √10 ⎥⎟\n",
       "⎜⎢─────  ─────⎥  ⎢ 0    ─── ⎥⎟\n",
       "⎝⎣  10     10 ⎦  ⎣       5  ⎦⎠"
      ]
     },
     "execution_count": 406,
     "metadata": {},
     "output_type": "execute_result"
    }
   ],
   "source": [
    "# QR decomposition\n",
    "A = sym.Matrix([[1,2],[3,4]])\n",
    "A.QRdecomposition()"
   ]
  },
  {
   "cell_type": "code",
   "execution_count": 410,
   "metadata": {},
   "outputs": [
    {
     "data": {
      "image/png": "[encoded data removed]",
      "text/latex": [
       "$$\\left[\\begin{matrix}-2\\\\\\frac{3}{2}\\end{matrix}\\right]$$"
      ],
      "text/plain": [
       "⎡-2 ⎤\n",
       "⎢   ⎥\n",
       "⎣3/2⎦"
      ]
     },
     "execution_count": 410,
     "metadata": {},
     "output_type": "execute_result"
    }
   ],
   "source": [
    "# solve Ax = b\n",
    "A = sym.Matrix([[1,2],[3,4]])\n",
    "b = sym.Matrix([1,0])\n",
    "A.solve(b)"
   ]
  },
  {
   "cell_type": "code",
   "execution_count": 408,
   "metadata": {},
   "outputs": [
    {
     "data": {
      "image/png": "[encoded data removed]",
      "text/latex": [
       "$$\\left[\\begin{matrix}-2\\\\\\frac{3}{2}\\end{matrix}\\right]$$"
      ],
      "text/plain": [
       "⎡-2 ⎤\n",
       "⎢   ⎥\n",
       "⎣3/2⎦"
      ]
     },
     "execution_count": 408,
     "metadata": {},
     "output_type": "execute_result"
    }
   ],
   "source": [
    "# solve Ax = b, using LU factorization\n",
    "A = sym.Matrix([[1,2],[3,4]])\n",
    "b = sym.Matrix([1,0])\n",
    "A.LUsolve(b)"
   ]
  },
  {
   "cell_type": "code",
   "execution_count": 411,
   "metadata": {},
   "outputs": [
    {
     "data": {
      "image/png": "[encoded data removed]",
      "text/latex": [
       "$$\\left[\\begin{matrix}-2\\\\\\frac{3}{2}\\end{matrix}\\right]$$"
      ],
      "text/plain": [
       "⎡-2 ⎤\n",
       "⎢   ⎥\n",
       "⎣3/2⎦"
      ]
     },
     "execution_count": 411,
     "metadata": {},
     "output_type": "execute_result"
    }
   ],
   "source": [
    "# solve Ax = b, using QR factorization\n",
    "A = sym.Matrix([[1,2],[3,4]])\n",
    "b = sym.Matrix([1,0])\n",
    "A.QRsolve(b)"
   ]
  },
  {
   "cell_type": "code",
   "execution_count": 412,
   "metadata": {},
   "outputs": [
    {
     "data": {
      "image/png": "[encoded data removed]",
      "text/latex": [
       "$$\\left ( \\left[\\begin{matrix}- \\frac{1}{2} + \\frac{\\sqrt{33}}{6} & - \\frac{\\sqrt{33}}{6} - \\frac{1}{2}\\\\1 & 1\\end{matrix}\\right], \\quad \\left[\\begin{matrix}\\frac{5}{2} + \\frac{\\sqrt{33}}{2} & 0\\\\0 & - \\frac{\\sqrt{33}}{2} + \\frac{5}{2}\\end{matrix}\\right]\\right )$$"
      ],
      "text/plain": [
       "⎛                        ⎡5   √33           ⎤⎞\n",
       "⎜⎡  1   √33    √33   1⎤  ⎢─ + ───      0    ⎥⎟\n",
       "⎜⎢- ─ + ───  - ─── - ─⎥  ⎢2    2            ⎥⎟\n",
       "⎜⎢  2    6      6    2⎥, ⎢                  ⎥⎟\n",
       "⎜⎢                    ⎥  ⎢           √33   5⎥⎟\n",
       "⎜⎣    1          1    ⎦  ⎢   0     - ─── + ─⎥⎟\n",
       "⎝                        ⎣            2    2⎦⎠"
      ]
     },
     "execution_count": 412,
     "metadata": {},
     "output_type": "execute_result"
    }
   ],
   "source": [
    "# diagonalize\n",
    "A = sym.Matrix([[1,2],[3,4]])\n",
    "A.diagonalize()"
   ]
  },
  {
   "cell_type": "code",
   "execution_count": 413,
   "metadata": {},
   "outputs": [
    {
     "data": {
      "image/png": "[encoded data removed]",
      "text/latex": [
       "$$\\left [ \\sqrt{\\sqrt{221} + 15}, \\quad \\sqrt{- \\sqrt{221} + 15}\\right ]$$"
      ],
      "text/plain": [
       "⎡  ___________    ____________⎤\n",
       "⎣╲╱ √221 + 15 , ╲╱ -√221 + 15 ⎦"
      ]
     },
     "execution_count": 413,
     "metadata": {},
     "output_type": "execute_result"
    }
   ],
   "source": [
    "# singular values\n",
    "A = sym.Matrix([[1,2],[3,4]])\n",
    "A.singular_values()"
   ]
  },
  {
   "cell_type": "code",
   "execution_count": null,
   "metadata": {},
   "outputs": [],
   "source": []
  }
 ],
 "metadata": {
  "kernelspec": {
   "display_name": "Python 3",
   "language": "python",
   "name": "python3"
  },
  "language_info": {
   "codemirror_mode": {
    "name": "ipython",
    "version": 3
   },
   "file_extension": ".py",
   "mimetype": "text/x-python",
   "name": "python",
   "nbconvert_exporter": "python",
   "pygments_lexer": "ipython3",
   "version": "3.5.2"
  }
 },
 "nbformat": 4,
 "nbformat_minor": 2
}
