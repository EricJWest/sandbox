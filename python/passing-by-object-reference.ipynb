{
 "cells": [
  {
   "cell_type": "markdown",
   "metadata": {},
   "source": [
    "# Is Python Pass-by-Value or Pass-by-Reference?\n",
    "---\n",
    "\n",
    "ANSWER: Neither.\n",
    "\n",
    "ELABORATION: In Python, everything is an object. Variables are really names (or bindings) to objects. When an assignment like b=a is made, the name 'a' and 'b' point to (or refer to) the same object. If the object is altered, both names are affected. Likewise when a function call is made, say fxn(a), it is not the value of 'a' that passed to the function. Rather a reference to the object that 'a' points to is passed to the function. So if that object is modified inside the function, then value returned by 'a' outside of the function is also affected. The correct description is that Python passes object references, not values (copies), and not mere references to memory addresses (pointers).\n"
   ]
  },
  {
   "cell_type": "markdown",
   "metadata": {},
   "source": [
    "### Some experiments to demonstrate passing-by-object-reference"
   ]
  },
  {
   "cell_type": "code",
   "execution_count": 9,
   "metadata": {},
   "outputs": [
    {
     "name": "stdout",
     "output_type": "stream",
     "text": [
      "[999, 2, 3]\n",
      "[999, 2, 3]\n"
     ]
    }
   ],
   "source": [
    "def reassign(alist):\n",
    "    alist[0] = 999\n",
    "    return alist\n",
    "\n",
    "mylist = [1, 2, 3]\n",
    "newlist = reassign(mylist)\n",
    "print(mylist)\n",
    "print(newlist)"
   ]
  },
  {
   "cell_type": "code",
   "execution_count": 10,
   "metadata": {},
   "outputs": [
    {
     "name": "stdout",
     "output_type": "stream",
     "text": [
      "[1, 2, 3, 999]\n",
      "[1, 2, 3, 999]\n"
     ]
    }
   ],
   "source": [
    "def append(alist):\n",
    "    alist.append(999)\n",
    "    return alist\n",
    "\n",
    "mylist = [1, 2, 3]\n",
    "newlist = append(mylist)\n",
    "print(mylist)\n",
    "print(newlist)"
   ]
  },
  {
   "cell_type": "code",
   "execution_count": 18,
   "metadata": {},
   "outputs": [
    {
     "name": "stdout",
     "output_type": "stream",
     "text": [
      "[]\n"
     ]
    }
   ],
   "source": [
    "def clear(alist):\n",
    "    alist.clear()\n",
    "    return alist\n",
    "\n",
    "mylist = [1, 2, 3]\n",
    "clear(mylist)\n",
    "print(mylist)"
   ]
  },
  {
   "cell_type": "code",
   "execution_count": 12,
   "metadata": {},
   "outputs": [
    {
     "name": "stdout",
     "output_type": "stream",
     "text": [
      "[999, 2, 777]\n",
      "[999, 2, 777]\n"
     ]
    }
   ],
   "source": [
    "mylistA = [1, 2, 3]\n",
    "mylistB = mylistA\n",
    "mylistA[0] = 999\n",
    "mylistB[-1] = 777\n",
    "print(mylistA)\n",
    "print(mylistB)"
   ]
  },
  {
   "cell_type": "code",
   "execution_count": 13,
   "metadata": {},
   "outputs": [
    {
     "name": "stdout",
     "output_type": "stream",
     "text": [
      "[4, 5, 6]\n",
      "[1, 2, 3]\n"
     ]
    }
   ],
   "source": [
    "mylistA = [1, 2, 3]\n",
    "mylistB = mylistA\n",
    "mylistA = [4, 5, 6]\n",
    "print(mylistA)\n",
    "print(mylistB)"
   ]
  },
  {
   "cell_type": "code",
   "execution_count": 35,
   "metadata": {},
   "outputs": [
    {
     "name": "stdout",
     "output_type": "stream",
     "text": [
      "[1, 2, 3]\n"
     ]
    }
   ],
   "source": [
    "mylistA = [1, 2, 3]\n",
    "for item in mylistA:\n",
    "    item = 0\n",
    "print(mylistA)"
   ]
  },
  {
   "cell_type": "code",
   "execution_count": null,
   "metadata": {},
   "outputs": [],
   "source": []
  }
 ],
 "metadata": {
  "kernelspec": {
   "display_name": "Python 3",
   "language": "python",
   "name": "python3"
  },
  "language_info": {
   "codemirror_mode": {
    "name": "ipython",
    "version": 3
   },
   "file_extension": ".py",
   "mimetype": "text/x-python",
   "name": "python",
   "nbconvert_exporter": "python",
   "pygments_lexer": "ipython3",
   "version": "3.6.7"
  }
 },
 "nbformat": 4,
 "nbformat_minor": 2
}
